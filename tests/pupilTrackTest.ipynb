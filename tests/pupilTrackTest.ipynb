{
 "cells": [
  {
   "cell_type": "code",
   "execution_count": null,
   "metadata": {},
   "outputs": [],
   "source": [
    "import cv2\n",
    "import numpy as np\n",
    "\n",
    "from EvEye.utils.PupilTracker import PupilTracker\n",
    "from EvEye.utils.cache.MemmapCacheStructedEvents import *\n",
    "from EvEye.utils.tonic.functional.ToFrameStack import to_frame_stack_numpy\n",
    "from EvEye.utils.tonic.slicers.SliceEventsAtIndices import slice_events_at_timepoints\n",
    "from EvEye.utils.visualization.visualization import *\n",
    "from EvEye.utils.processor.TxtProcessor import TxtProcessor"
   ]
  },
  {
   "cell_type": "code",
   "execution_count": null,
   "metadata": {},
   "outputs": [],
   "source": [
    "events_path = Path(\n",
    "    \"/mnt/data2T/junyuan/eye-tracking/datasets/DavisEyeCenterDataset/data/user1_left_session_1_0_1_events.txt\"\n",
    ")\n",
    "ellipses_path = Path(\n",
    "    \"/mnt/data2T/junyuan/eye-tracking/datasets/DavisEyeEllipseLabelsV2/user1_left_session_1_0_1.txt\"\n",
    ")\n",
    "output_path = Path(\"/mnt/data2T/junyuan/eye-tracking/outputs/PupilTrack\")\n",
    "output_path.mkdir(exist_ok=True, parents=True)\n",
    "events = TxtProcessor(events_path).load_events_from_txt()\n",
    "ellipses = TxtProcessor(ellipses_path).load_ellipses_from_txt()\n",
    "sensor_size = (346, 260, 2)\n",
    "time_window = 1000\n",
    "events_interpolation = \"causal_linear\"\n",
    "pupil_tracker = PupilTracker()"
   ]
  },
  {
   "cell_type": "code",
   "execution_count": null,
   "metadata": {},
   "outputs": [],
   "source": [
    "index = 31\n",
    "end_event_time = ellipses[index][0]\n",
    "start_event_time = max(0, end_event_time - time_window)\n",
    "event_segment = slice_events_at_timepoints(events, start_event_time, end_event_time)\n",
    "event_frame_raw = to_frame_stack_numpy(\n",
    "    event_segment,\n",
    "    sensor_size,\n",
    "    1,\n",
    "    events_interpolation,\n",
    "    start_event_time,\n",
    "    end_event_time,\n",
    ")\n",
    "event_frame_raw_vis = visualize(event_frame_raw)\n",
    "ellipse = convert_to_ellipse(ellipses[index])\n",
    "draw_ellipse(event_frame_raw_vis, ellipse)\n",
    "save_image(event_frame_raw_vis, f\"{output_path}/event_frame_raw.png\")\n",
    "st = start_event_time\n",
    "et = end_event_time"
   ]
  },
  {
   "cell_type": "code",
   "execution_count": null,
   "metadata": {},
   "outputs": [],
   "source": [
    "ellipse"
   ]
  },
  {
   "cell_type": "code",
   "execution_count": null,
   "metadata": {},
   "outputs": [],
   "source": [
    "for save_index in tqdm(range(100)):\n",
    "    for track_index in range(100):\n",
    "        start_event_time = end_event_time\n",
    "        end_event_time = start_event_time + time_window\n",
    "        event_segment = slice_events_at_timepoints(\n",
    "            events, start_event_time, end_event_time\n",
    "        )\n",
    "        event_frame = to_frame_stack_numpy(\n",
    "            event_segment,\n",
    "            sensor_size,\n",
    "            1,\n",
    "            events_interpolation,\n",
    "            start_event_time,\n",
    "            end_event_time,\n",
    "        )\n",
    "        event_frame_vis = visualize(event_frame)\n",
    "        pupil_tracker = PupilTracker()\n",
    "        cv2.ellipse(event_frame_vis, ellipse, (0, 255, 0), 1)\n",
    "        ellipse = pupil_tracker(event_frame_vis, ellipse)\n",
    "        cv2.ellipse(event_frame_vis, ellipse, (255, 255, 255), 1)\n",
    "        save_image(\n",
    "            event_frame_vis, f\"{output_path}/event_frame_{save_index}_{track_index}.png\"\n",
    "        )"
   ]
  }
 ],
 "metadata": {
  "kernelspec": {
   "display_name": "EvEye",
   "language": "python",
   "name": "python3"
  },
  "language_info": {
   "codemirror_mode": {
    "name": "ipython",
    "version": 3
   },
   "file_extension": ".py",
   "mimetype": "text/x-python",
   "name": "python",
   "nbconvert_exporter": "python",
   "pygments_lexer": "ipython3",
   "version": "3.10.14"
  }
 },
 "nbformat": 4,
 "nbformat_minor": 2
}
