{
 "cells": [
  {
   "cell_type": "code",
   "execution_count": 1,
   "metadata": {},
   "outputs": [],
   "source": [
    "from torch.utils.data import DataLoader\n",
    "import tonic.functional as tof\n",
    "\n",
    "from time import time\n",
    "import multiprocessing as mp\n",
    "from EvEye.dataset.DavisEyeCenter.NpyDavisEyeCenterDataset import NpyDavisEyeCenterDataset\n",
    "from EvEye.dataset.DavisEyeCenter.DatDavisEyeCenterDataset import DatDavisEyeCenterDataset"
   ]
  },
  {
   "cell_type": "code",
   "execution_count": 2,
   "metadata": {},
   "outputs": [
    {
     "name": "stdout",
     "output_type": "stream",
     "text": [
      "num of CPU: 80\n",
      "Finish with:31.001441478729248 second, num_workers=0\n",
      "Finish with:12.312552452087402 second, num_workers=2\n",
      "Finish with:6.568138122558594 second, num_workers=4\n",
      "Finish with:7.436328649520874 second, num_workers=6\n",
      "Finish with:4.370178699493408 second, num_workers=8\n",
      "Finish with:4.184946298599243 second, num_workers=10\n",
      "Finish with:3.4484152793884277 second, num_workers=12\n",
      "Finish with:3.4841866493225098 second, num_workers=14\n",
      "Finish with:3.930711269378662 second, num_workers=16\n",
      "Finish with:3.6651837825775146 second, num_workers=18\n",
      "Finish with:3.5640692710876465 second, num_workers=20\n"
     ]
    }
   ],
   "source": [
    "dataset = DatDavisEyeCenterDataset(\n",
    "        root_path=\"/mnt/data2T/junyuan/eye-tracking/testDataset\",\n",
    "        split=\"train\",\n",
    "    )\n",
    "print(f\"num of CPU: {mp.cpu_count()}\")\n",
    "for num_workers in range(0, 22, 2):\n",
    "    dataloader = DataLoader(dataset, batch_size=16, shuffle=True, pin_memory=True, num_workers=num_workers)\n",
    "    start = time()\n",
    "    for epoch in range(1):\n",
    "        for i, data in enumerate(dataloader, 0):\n",
    "            pass\n",
    "    end = time()\n",
    "    print(\"Finish with:{} second, num_workers={}\".format(end - start, num_workers))"
   ]
  },
  {
   "cell_type": "code",
   "execution_count": 3,
   "metadata": {},
   "outputs": [
    {
     "name": "stdout",
     "output_type": "stream",
     "text": [
      "num of CPU: 80\n",
      "Finish with:33.00452136993408 second, num_workers=0\n",
      "Finish with:10.471675395965576 second, num_workers=2\n",
      "Finish with:6.395062208175659 second, num_workers=4\n",
      "Finish with:4.618725299835205 second, num_workers=6\n",
      "Finish with:5.27396559715271 second, num_workers=8\n",
      "Finish with:3.156888008117676 second, num_workers=10\n",
      "Finish with:3.224898338317871 second, num_workers=12\n",
      "Finish with:3.2148678302764893 second, num_workers=14\n",
      "Finish with:3.282917022705078 second, num_workers=16\n",
      "Finish with:3.3859827518463135 second, num_workers=18\n",
      "Finish with:3.3220272064208984 second, num_workers=20\n"
     ]
    }
   ],
   "source": [
    "dataset = NpyDavisEyeCenterDataset(\n",
    "        root_path=\"/mnt/data2T/junyuan/eye-tracking/testDataset\",\n",
    "        split=\"train\",\n",
    "    )\n",
    "print(f\"num of CPU: {mp.cpu_count()}\")\n",
    "for num_workers in range(0, 22, 2):\n",
    "    dataloader = DataLoader(dataset, batch_size=16, shuffle=True, pin_memory=True, num_workers=num_workers)\n",
    "    start = time()\n",
    "    for epoch in range(1):\n",
    "        for i, data in enumerate(dataloader, 0):\n",
    "            pass\n",
    "    end = time()\n",
    "    print(\"Finish with:{} second, num_workers={}\".format(end - start, num_workers))"
   ]
  },
  {
   "cell_type": "code",
   "execution_count": 2,
   "metadata": {},
   "outputs": [
    {
     "name": "stdout",
     "output_type": "stream",
     "text": [
      "num of CPU: 80\n",
      "Finish with:19.310089826583862 second, num_workers=0\n",
      "Finish with:11.751741647720337 second, num_workers=2\n",
      "Finish with:7.899327754974365 second, num_workers=4\n",
      "Finish with:5.554913759231567 second, num_workers=6\n",
      "Finish with:5.333765029907227 second, num_workers=8\n",
      "Finish with:5.269906282424927 second, num_workers=10\n",
      "Finish with:6.048101186752319 second, num_workers=12\n",
      "Finish with:5.428102731704712 second, num_workers=14\n",
      "Finish with:5.396918296813965 second, num_workers=16\n",
      "Finish with:5.667470932006836 second, num_workers=18\n",
      "Finish with:5.750435829162598 second, num_workers=20\n"
     ]
    }
   ],
   "source": [
    "dataset = NpyDavisEyeCenterDataset(\n",
    "        root_path=\"/mnt/data2T/junyuan/eye-tracking/testDataset\",\n",
    "        split=\"train\",\n",
    "    )\n",
    "print(f\"num of CPU: {mp.cpu_count()}\")\n",
    "for num_workers in range(0, 22, 2):\n",
    "    dataloader = DataLoader(dataset, batch_size=32, shuffle=True, pin_memory=True, num_workers=num_workers)\n",
    "    start = time()\n",
    "    for epoch in range(1):\n",
    "        for i, data in enumerate(dataloader, 0):\n",
    "            pass\n",
    "    end = time()\n",
    "    print(\"Finish with:{} second, num_workers={}\".format(end - start, num_workers))"
   ]
  },
  {
   "cell_type": "code",
   "execution_count": 2,
   "metadata": {},
   "outputs": [
    {
     "name": "stdout",
     "output_type": "stream",
     "text": [
      "num of CPU: 80\n",
      "Finish with:20.023539066314697 second, num_workers=0\n",
      "Finish with:12.145746946334839 second, num_workers=2\n",
      "Finish with:10.260802268981934 second, num_workers=4\n",
      "Finish with:10.558691024780273 second, num_workers=6\n",
      "Finish with:9.853972434997559 second, num_workers=8\n",
      "Finish with:9.557220458984375 second, num_workers=10\n",
      "Finish with:9.686543464660645 second, num_workers=12\n",
      "Finish with:9.595795392990112 second, num_workers=14\n",
      "Finish with:9.597529649734497 second, num_workers=16\n",
      "Finish with:10.197850227355957 second, num_workers=18\n",
      "Finish with:9.71213412284851 second, num_workers=20\n"
     ]
    }
   ],
   "source": [
    "dataset = NpyDavisEyeCenterDataset(\n",
    "        root_path=\"/mnt/data2T/junyuan/eye-tracking/testDataset\",\n",
    "        split=\"train\",\n",
    "    )\n",
    "print(f\"num of CPU: {mp.cpu_count()}\")\n",
    "for num_workers in range(0, 22, 2):\n",
    "    dataloader = DataLoader(dataset, batch_size=64, shuffle=True, pin_memory=True, num_workers=num_workers)\n",
    "    start = time()\n",
    "    for epoch in range(1):\n",
    "        for i, data in enumerate(dataloader, 0):\n",
    "            pass\n",
    "    end = time()\n",
    "    print(\"Finish with:{} second, num_workers={}\".format(end - start, num_workers))"
   ]
  }
 ],
 "metadata": {
  "kernelspec": {
   "display_name": "EvEye",
   "language": "python",
   "name": "python3"
  },
  "language_info": {
   "codemirror_mode": {
    "name": "ipython",
    "version": 3
   },
   "file_extension": ".py",
   "mimetype": "text/x-python",
   "name": "python",
   "nbconvert_exporter": "python",
   "pygments_lexer": "ipython3",
   "version": "3.10.14"
  }
 },
 "nbformat": 4,
 "nbformat_minor": 2
}
