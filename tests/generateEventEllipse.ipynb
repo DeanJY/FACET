{
 "cells": [
  {
   "cell_type": "code",
   "execution_count": 1,
   "metadata": {},
   "outputs": [
    {
     "name": "stderr",
     "output_type": "stream",
     "text": [
      "/home/junyuan/anaconda3/envs/EvEye/lib/python3.10/site-packages/tqdm/auto.py:21: TqdmWarning: IProgress not found. Please update jupyter and ipywidgets. See https://ipywidgets.readthedocs.io/en/stable/user_install.html\n",
      "  from .autonotebook import tqdm as notebook_tqdm\n"
     ]
    }
   ],
   "source": [
    "import os\n",
    "import torch\n",
    "import numpy as np\n",
    "import cv2\n",
    "\n",
    "from tqdm import tqdm\n",
    "from pathlib import Path\n",
    "from EvEye.utils.tonic.functional.ToFrameStack import to_frame_stack_numpy\n",
    "from EvEye.utils.tonic.slicers.SliceEventsAtIndices import slice_events_at_timepoints\n",
    "from EvEye.utils.processor.TxtProcessor import TxtProcessor\n",
    "from EvEye.utils.visualization.visualization import (\n",
    "    visualize,\n",
    "    save_image,\n",
    "    load_image,\n",
    "    draw_contour,\n",
    ")\n",
    "from tqdm import tqdm\n",
    "from natsort import natsorted\n",
    "from EvEye.model.model_factory import make_model\n",
    "from EvEye.utils.scripts.process_model_output import process_model_output\n",
    "from EvEye.utils.scripts.load_config import load_config\n",
    "import albumentations as A\n",
    "from albumentations.pytorch import ToTensorV2"
   ]
  },
  {
   "cell_type": "code",
   "execution_count": 2,
   "metadata": {},
   "outputs": [],
   "source": [
    "time_window = 10000\n",
    "sensor_size = (346, 260, 2)"
   ]
  },
  {
   "cell_type": "code",
   "execution_count": 3,
   "metadata": {},
   "outputs": [],
   "source": [
    "output_base_path = Path(\"/mnt/data2T/junyuan/eye-tracking/outputs/EventMasks\")\n",
    "root_txt_path = Path(\n",
    "    \"/mnt/data2T/junyuan/eye-tracking/datasets/DavisEyeCenterDataset/test/data\"\n",
    ")\n",
    "root_rgb_path = Path(\n",
    "    \"/mnt/data2T/junyuan/eye-tracking/datasets/DavisEyeCenterDatasetFrames\"\n",
    ")\n",
    "user_paths = natsorted([f for f in root_rgb_path.iterdir() if f.is_dir()])"
   ]
  },
  {
   "cell_type": "code",
   "execution_count": 4,
   "metadata": {},
   "outputs": [
    {
     "data": {
      "text/plain": [
       "UNet(\n",
       "  (inc): DoubleConv(\n",
       "    (double_conv): Sequential(\n",
       "      (0): Conv2d(1, 64, kernel_size=(3, 3), stride=(1, 1), padding=(1, 1))\n",
       "      (1): BatchNorm2d(64, eps=1e-05, momentum=0.1, affine=True, track_running_stats=True)\n",
       "      (2): ReLU(inplace=True)\n",
       "      (3): Conv2d(64, 64, kernel_size=(3, 3), stride=(1, 1), padding=(1, 1))\n",
       "      (4): BatchNorm2d(64, eps=1e-05, momentum=0.1, affine=True, track_running_stats=True)\n",
       "      (5): ReLU(inplace=True)\n",
       "    )\n",
       "  )\n",
       "  (down1): Down(\n",
       "    (maxpool_conv): Sequential(\n",
       "      (0): MaxPool2d(kernel_size=2, stride=2, padding=0, dilation=1, ceil_mode=False)\n",
       "      (1): DoubleConv(\n",
       "        (double_conv): Sequential(\n",
       "          (0): Conv2d(64, 128, kernel_size=(3, 3), stride=(1, 1), padding=(1, 1))\n",
       "          (1): BatchNorm2d(128, eps=1e-05, momentum=0.1, affine=True, track_running_stats=True)\n",
       "          (2): ReLU(inplace=True)\n",
       "          (3): Conv2d(128, 128, kernel_size=(3, 3), stride=(1, 1), padding=(1, 1))\n",
       "          (4): BatchNorm2d(128, eps=1e-05, momentum=0.1, affine=True, track_running_stats=True)\n",
       "          (5): ReLU(inplace=True)\n",
       "        )\n",
       "      )\n",
       "    )\n",
       "  )\n",
       "  (down2): Down(\n",
       "    (maxpool_conv): Sequential(\n",
       "      (0): MaxPool2d(kernel_size=2, stride=2, padding=0, dilation=1, ceil_mode=False)\n",
       "      (1): DoubleConv(\n",
       "        (double_conv): Sequential(\n",
       "          (0): Conv2d(128, 256, kernel_size=(3, 3), stride=(1, 1), padding=(1, 1))\n",
       "          (1): BatchNorm2d(256, eps=1e-05, momentum=0.1, affine=True, track_running_stats=True)\n",
       "          (2): ReLU(inplace=True)\n",
       "          (3): Conv2d(256, 256, kernel_size=(3, 3), stride=(1, 1), padding=(1, 1))\n",
       "          (4): BatchNorm2d(256, eps=1e-05, momentum=0.1, affine=True, track_running_stats=True)\n",
       "          (5): ReLU(inplace=True)\n",
       "        )\n",
       "      )\n",
       "    )\n",
       "  )\n",
       "  (down3): Down(\n",
       "    (maxpool_conv): Sequential(\n",
       "      (0): MaxPool2d(kernel_size=2, stride=2, padding=0, dilation=1, ceil_mode=False)\n",
       "      (1): DoubleConv(\n",
       "        (double_conv): Sequential(\n",
       "          (0): Conv2d(256, 512, kernel_size=(3, 3), stride=(1, 1), padding=(1, 1))\n",
       "          (1): BatchNorm2d(512, eps=1e-05, momentum=0.1, affine=True, track_running_stats=True)\n",
       "          (2): ReLU(inplace=True)\n",
       "          (3): Conv2d(512, 512, kernel_size=(3, 3), stride=(1, 1), padding=(1, 1))\n",
       "          (4): BatchNorm2d(512, eps=1e-05, momentum=0.1, affine=True, track_running_stats=True)\n",
       "          (5): ReLU(inplace=True)\n",
       "        )\n",
       "      )\n",
       "    )\n",
       "  )\n",
       "  (down4): Down(\n",
       "    (maxpool_conv): Sequential(\n",
       "      (0): MaxPool2d(kernel_size=2, stride=2, padding=0, dilation=1, ceil_mode=False)\n",
       "      (1): DoubleConv(\n",
       "        (double_conv): Sequential(\n",
       "          (0): Conv2d(512, 512, kernel_size=(3, 3), stride=(1, 1), padding=(1, 1))\n",
       "          (1): BatchNorm2d(512, eps=1e-05, momentum=0.1, affine=True, track_running_stats=True)\n",
       "          (2): ReLU(inplace=True)\n",
       "          (3): Conv2d(512, 512, kernel_size=(3, 3), stride=(1, 1), padding=(1, 1))\n",
       "          (4): BatchNorm2d(512, eps=1e-05, momentum=0.1, affine=True, track_running_stats=True)\n",
       "          (5): ReLU(inplace=True)\n",
       "        )\n",
       "      )\n",
       "    )\n",
       "  )\n",
       "  (up1): Up(\n",
       "    (up): Upsample(scale_factor=2.0, mode='bilinear')\n",
       "    (conv): DoubleConv(\n",
       "      (double_conv): Sequential(\n",
       "        (0): Conv2d(1024, 512, kernel_size=(3, 3), stride=(1, 1), padding=(1, 1))\n",
       "        (1): BatchNorm2d(512, eps=1e-05, momentum=0.1, affine=True, track_running_stats=True)\n",
       "        (2): ReLU(inplace=True)\n",
       "        (3): Conv2d(512, 256, kernel_size=(3, 3), stride=(1, 1), padding=(1, 1))\n",
       "        (4): BatchNorm2d(256, eps=1e-05, momentum=0.1, affine=True, track_running_stats=True)\n",
       "        (5): ReLU(inplace=True)\n",
       "      )\n",
       "    )\n",
       "  )\n",
       "  (up2): Up(\n",
       "    (up): Upsample(scale_factor=2.0, mode='bilinear')\n",
       "    (conv): DoubleConv(\n",
       "      (double_conv): Sequential(\n",
       "        (0): Conv2d(512, 256, kernel_size=(3, 3), stride=(1, 1), padding=(1, 1))\n",
       "        (1): BatchNorm2d(256, eps=1e-05, momentum=0.1, affine=True, track_running_stats=True)\n",
       "        (2): ReLU(inplace=True)\n",
       "        (3): Conv2d(256, 128, kernel_size=(3, 3), stride=(1, 1), padding=(1, 1))\n",
       "        (4): BatchNorm2d(128, eps=1e-05, momentum=0.1, affine=True, track_running_stats=True)\n",
       "        (5): ReLU(inplace=True)\n",
       "      )\n",
       "    )\n",
       "  )\n",
       "  (up3): Up(\n",
       "    (up): Upsample(scale_factor=2.0, mode='bilinear')\n",
       "    (conv): DoubleConv(\n",
       "      (double_conv): Sequential(\n",
       "        (0): Conv2d(256, 128, kernel_size=(3, 3), stride=(1, 1), padding=(1, 1))\n",
       "        (1): BatchNorm2d(128, eps=1e-05, momentum=0.1, affine=True, track_running_stats=True)\n",
       "        (2): ReLU(inplace=True)\n",
       "        (3): Conv2d(128, 64, kernel_size=(3, 3), stride=(1, 1), padding=(1, 1))\n",
       "        (4): BatchNorm2d(64, eps=1e-05, momentum=0.1, affine=True, track_running_stats=True)\n",
       "        (5): ReLU(inplace=True)\n",
       "      )\n",
       "    )\n",
       "  )\n",
       "  (up4): Up(\n",
       "    (up): Upsample(scale_factor=2.0, mode='bilinear')\n",
       "    (conv): DoubleConv(\n",
       "      (double_conv): Sequential(\n",
       "        (0): Conv2d(128, 64, kernel_size=(3, 3), stride=(1, 1), padding=(1, 1))\n",
       "        (1): BatchNorm2d(64, eps=1e-05, momentum=0.1, affine=True, track_running_stats=True)\n",
       "        (2): ReLU(inplace=True)\n",
       "        (3): Conv2d(64, 64, kernel_size=(3, 3), stride=(1, 1), padding=(1, 1))\n",
       "        (4): BatchNorm2d(64, eps=1e-05, momentum=0.1, affine=True, track_running_stats=True)\n",
       "        (5): ReLU(inplace=True)\n",
       "      )\n",
       "    )\n",
       "  )\n",
       "  (outc): OutConv(\n",
       "    (conv): Conv2d(64, 2, kernel_size=(1, 1), stride=(1, 1))\n",
       "  )\n",
       "  (iou): MulticlassJaccardIndex()\n",
       ")"
      ]
     },
     "execution_count": 4,
     "metadata": {},
     "output_type": "execute_result"
    }
   ],
   "source": [
    "config_path = Path(\"/mnt/data2T/junyuan/eye-tracking/configs/OutputGroundTruth.yaml\")\n",
    "config = load_config(config_path)\n",
    "model = make_model(config[\"model\"])\n",
    "model.load_state_dict(\n",
    "    torch.load(config[\"test\"][\"ckpt_path\"], map_location=\"cuda:0\")[\"state_dict\"]\n",
    ")\n",
    "model = model.cuda()\n",
    "model.eval()"
   ]
  },
  {
   "cell_type": "code",
   "execution_count": 5,
   "metadata": {},
   "outputs": [],
   "source": [
    "transform = A.Compose(\n",
    "    [\n",
    "        A.Resize(height=240, width=346),\n",
    "        A.Normalize(\n",
    "            mean=[0.0],\n",
    "            std=[1.0],\n",
    "            max_pixel_value=255.0,\n",
    "        ),\n",
    "        ToTensorV2(),\n",
    "    ]\n",
    ")"
   ]
  },
  {
   "cell_type": "code",
   "execution_count": 6,
   "metadata": {},
   "outputs": [
    {
     "name": "stdout",
     "output_type": "stream",
     "text": [
      "Processing user1_left_session_1_0_1...\n",
      "Processing user1_left_session_1_0_2...\n",
      "Processing user1_left_session_2_0_1...\n",
      "Processing user1_left_session_2_0_2...\n",
      "Processing user1_right_session_1_0_1...\n",
      "Processing user1_right_session_1_0_2...\n",
      "Processing user1_right_session_2_0_1...\n",
      "Processing user1_right_session_2_0_2...\n",
      "Processing user2_left_session_1_0_1...\n",
      "Processing user2_left_session_1_0_2...\n",
      "Processing user2_left_session_2_0_1...\n",
      "Processing user2_left_session_2_0_2...\n",
      "Processing user2_right_session_1_0_1...\n",
      "Processing user2_right_session_1_0_2...\n",
      "Processing user2_right_session_2_0_1...\n",
      "Processing user2_right_session_2_0_2...\n",
      "Processing user3_left_session_1_0_1...\n",
      "Processing user3_left_session_1_0_2...\n",
      "Processing user3_left_session_2_0_1...\n",
      "Processing user3_left_session_2_0_2...\n",
      "Processing user3_right_session_1_0_1...\n",
      "Processing user3_right_session_1_0_2...\n",
      "Processing user3_right_session_2_0_1...\n",
      "Processing user3_right_session_2_0_2...\n",
      "Processing user4_left_session_1_0_1...\n",
      "Processing user4_left_session_1_0_2...\n",
      "Processing user4_left_session_2_0_1...\n",
      "Processing user4_left_session_2_0_2...\n",
      "Processing user4_right_session_1_0_1...\n",
      "Processing user4_right_session_1_0_2...\n",
      "Processing user4_right_session_2_0_1...\n",
      "Processing user4_right_session_2_0_2...\n",
      "Processing user5_left_session_1_0_1...\n",
      "Processing user5_left_session_1_0_2...\n",
      "Processing user5_left_session_2_0_1...\n",
      "Processing user5_left_session_2_0_2...\n",
      "Processing user5_right_session_1_0_1...\n",
      "Processing user5_right_session_1_0_2...\n",
      "Processing user5_right_session_2_0_1...\n",
      "Processing user5_right_session_2_0_2...\n",
      "Processing user6_left_session_1_0_1...\n",
      "Processing user6_left_session_1_0_2...\n",
      "Processing user6_left_session_2_0_1...\n",
      "Processing user6_left_session_2_0_2...\n",
      "Processing user6_right_session_1_0_1...\n",
      "Processing user6_right_session_1_0_2...\n",
      "Processing user6_right_session_2_0_1...\n",
      "Processing user6_right_session_2_0_2...\n",
      "Processing user7_left_session_1_0_1...\n",
      "Processing user7_left_session_1_0_2...\n",
      "Processing user7_left_session_2_0_1...\n",
      "Processing user7_left_session_2_0_2...\n",
      "Processing user7_right_session_1_0_1...\n",
      "Processing user7_right_session_1_0_2...\n",
      "Processing user7_right_session_2_0_1...\n",
      "Processing user7_right_session_2_0_2...\n",
      "Processing user8_left_session_1_0_1...\n",
      "Processing user8_left_session_1_0_2...\n",
      "Processing user8_left_session_2_0_1...\n",
      "Processing user8_left_session_2_0_2...\n",
      "Processing user8_right_session_1_0_1...\n",
      "Processing user8_right_session_1_0_2...\n",
      "Processing user8_right_session_2_0_1...\n",
      "Processing user8_right_session_2_0_2...\n",
      "Processing user9_left_session_1_0_1...\n",
      "Processing user9_left_session_1_0_2...\n",
      "Processing user9_left_session_2_0_1...\n",
      "Processing user9_left_session_2_0_2...\n",
      "Processing user9_right_session_1_0_1...\n",
      "Processing user9_right_session_1_0_2...\n",
      "Processing user9_right_session_2_0_1...\n",
      "Processing user9_right_session_2_0_2...\n",
      "Processing user10_left_session_1_0_1...\n",
      "Processing user10_left_session_1_0_2...\n",
      "Processing user11_left_session_1_0_1...\n",
      "Processing user11_left_session_1_0_2...\n",
      "Processing user11_left_session_2_0_1...\n",
      "Processing user11_left_session_2_0_2...\n",
      "Processing user11_right_session_1_0_1...\n",
      "Processing user11_right_session_1_0_2...\n",
      "Processing user11_right_session_2_0_1...\n",
      "Processing user11_right_session_2_0_2...\n",
      "Processing user12_left_session_1_0_1...\n",
      "Processing user12_left_session_1_0_2...\n",
      "Processing user12_left_session_2_0_1...\n",
      "Processing user12_left_session_2_0_2...\n",
      "Processing user12_right_session_1_0_1...\n",
      "Processing user12_right_session_1_0_2...\n",
      "Processing user12_right_session_2_0_1...\n",
      "Processing user12_right_session_2_0_2...\n",
      "Processing user13_left_session_1_0_1...\n",
      "Processing user13_left_session_1_0_2...\n",
      "Processing user13_left_session_2_0_1...\n",
      "Processing user13_left_session_2_0_2...\n",
      "Processing user13_right_session_1_0_1...\n",
      "Processing user13_right_session_1_0_2...\n",
      "Processing user13_right_session_2_0_1...\n",
      "Processing user13_right_session_2_0_2...\n",
      "Processing user14_left_session_1_0_1...\n",
      "Processing user14_left_session_1_0_2...\n",
      "Processing user14_left_session_2_0_1...\n",
      "Processing user14_left_session_2_0_2...\n",
      "Processing user14_right_session_1_0_1...\n",
      "Processing user14_right_session_1_0_2...\n",
      "Processing user14_right_session_2_0_1...\n",
      "Processing user14_right_session_2_0_2...\n",
      "Processing user15_left_session_1_0_1...\n",
      "Processing user15_left_session_1_0_2...\n",
      "Processing user15_left_session_2_0_1...\n",
      "Processing user15_left_session_2_0_2...\n",
      "Processing user15_right_session_1_0_1...\n",
      "Processing user15_right_session_1_0_2...\n",
      "Processing user15_right_session_2_0_1...\n",
      "Processing user15_right_session_2_0_2...\n",
      "Processing user16_left_session_1_0_1...\n",
      "Processing user16_left_session_1_0_2...\n",
      "Processing user16_left_session_2_0_1...\n",
      "Processing user16_left_session_2_0_2...\n",
      "Processing user16_right_session_1_0_1...\n",
      "Processing user16_right_session_1_0_2...\n",
      "Processing user16_right_session_2_0_1...\n",
      "Processing user16_right_session_2_0_2...\n",
      "Processing user17_left_session_1_0_1...\n",
      "Processing user17_left_session_1_0_2...\n",
      "Processing user17_left_session_2_0_1...\n",
      "Processing user17_left_session_2_0_2...\n",
      "Processing user17_right_session_1_0_1...\n",
      "Processing user17_right_session_1_0_2...\n",
      "Processing user17_right_session_2_0_1...\n",
      "Processing user17_right_session_2_0_2...\n",
      "Processing user18_left_session_1_0_1...\n",
      "Processing user18_left_session_1_0_2...\n",
      "Processing user18_left_session_2_0_1...\n",
      "Processing user18_left_session_2_0_2...\n",
      "Processing user18_right_session_1_0_1...\n",
      "Processing user18_right_session_1_0_2...\n",
      "Processing user18_right_session_2_0_1...\n",
      "Processing user18_right_session_2_0_2...\n",
      "Processing user19_left_session_1_0_1...\n",
      "Processing user19_left_session_1_0_2...\n",
      "Processing user19_left_session_2_0_1...\n",
      "Processing user19_left_session_2_0_2...\n",
      "Processing user19_right_session_1_0_1...\n",
      "Processing user19_right_session_1_0_2...\n",
      "Processing user19_right_session_2_0_1...\n",
      "Processing user19_right_session_2_0_2...\n",
      "Processing user20_left_session_1_0_1...\n",
      "Processing user20_left_session_1_0_2...\n",
      "Processing user20_left_session_2_0_1...\n",
      "Processing user20_left_session_2_0_2...\n",
      "Processing user20_right_session_1_0_1...\n",
      "Processing user20_right_session_1_0_2...\n",
      "Processing user20_right_session_2_0_1...\n",
      "Processing user20_right_session_2_0_2...\n",
      "Processing user21_left_session_1_0_1...\n",
      "Processing user21_left_session_1_0_2...\n",
      "Processing user21_left_session_2_0_1...\n",
      "Processing user21_left_session_2_0_2...\n",
      "Processing user21_right_session_1_0_1...\n",
      "Processing user21_right_session_1_0_2...\n",
      "Processing user21_right_session_2_0_1...\n",
      "Processing user21_right_session_2_0_2...\n",
      "Processing user22_left_session_1_0_1...\n",
      "Processing user22_left_session_1_0_2...\n",
      "Processing user22_left_session_2_0_1...\n",
      "Processing user22_left_session_2_0_2...\n",
      "Processing user22_right_session_1_0_1...\n",
      "Processing user22_right_session_1_0_2...\n",
      "Processing user22_right_session_2_0_1...\n",
      "Processing user22_right_session_2_0_2...\n",
      "Processing user23_left_session_1_0_1...\n",
      "Processing user23_left_session_1_0_2...\n",
      "Processing user23_left_session_2_0_1...\n",
      "Processing user23_left_session_2_0_2...\n",
      "Processing user23_right_session_1_0_1...\n",
      "Processing user23_right_session_1_0_2...\n",
      "Processing user23_right_session_2_0_1...\n",
      "Processing user23_right_session_2_0_2...\n",
      "Processing user24_left_session_1_0_1...\n",
      "Processing user24_left_session_1_0_2...\n",
      "Processing user24_left_session_2_0_1...\n",
      "Processing user24_left_session_2_0_2...\n",
      "Processing user24_right_session_1_0_1...\n",
      "Processing user24_right_session_1_0_2...\n",
      "Processing user24_right_session_2_0_1...\n",
      "Processing user24_right_session_2_0_2...\n",
      "Processing user25_left_session_1_0_1...\n",
      "Processing user25_left_session_1_0_2...\n",
      "Processing user25_left_session_2_0_1...\n",
      "Processing user25_left_session_2_0_2...\n",
      "Processing user25_right_session_1_0_1...\n",
      "Processing user25_right_session_1_0_2...\n",
      "Processing user25_right_session_2_0_1...\n",
      "Processing user25_right_session_2_0_2...\n",
      "Processing user26_left_session_1_0_1...\n",
      "Processing user26_left_session_1_0_2...\n",
      "Processing user26_left_session_2_0_1...\n",
      "Processing user26_left_session_2_0_2...\n",
      "Processing user26_right_session_1_0_1...\n",
      "Processing user26_right_session_1_0_2...\n",
      "Processing user26_right_session_2_0_1...\n",
      "Processing user26_right_session_2_0_2...\n",
      "Processing user27_left_session_1_0_1...\n",
      "Processing user27_left_session_1_0_2...\n",
      "Processing user27_left_session_2_0_1...\n",
      "Processing user27_left_session_2_0_2...\n",
      "Processing user27_right_session_1_0_1...\n",
      "Processing user27_right_session_1_0_2...\n",
      "Processing user27_right_session_2_0_1...\n",
      "Processing user27_right_session_2_0_2...\n",
      "Processing user28_left_session_1_0_1...\n",
      "Processing user28_left_session_1_0_2...\n",
      "Processing user28_left_session_2_0_1...\n",
      "Processing user28_left_session_2_0_2...\n",
      "Processing user28_right_session_1_0_1...\n",
      "Processing user28_right_session_1_0_2...\n",
      "Processing user28_right_session_2_0_1...\n",
      "Processing user28_right_session_2_0_2...\n",
      "Processing user29_left_session_1_0_1...\n",
      "Processing user29_left_session_1_0_2...\n",
      "Processing user29_left_session_2_0_1...\n",
      "Processing user29_left_session_2_0_2...\n",
      "Processing user29_right_session_1_0_1...\n",
      "Processing user29_right_session_1_0_2...\n",
      "Processing user29_right_session_2_0_1...\n",
      "Processing user29_right_session_2_0_2...\n",
      "Processing user30_left_session_1_0_1...\n",
      "Processing user30_left_session_1_0_2...\n",
      "Processing user30_left_session_2_0_1...\n",
      "Processing user30_left_session_2_0_2...\n",
      "Processing user30_right_session_1_0_1...\n",
      "Processing user30_right_session_1_0_2...\n",
      "Processing user30_right_session_2_0_1...\n",
      "Processing user30_right_session_2_0_2...\n",
      "Processing user31_left_session_1_0_1...\n",
      "Processing user31_left_session_1_0_2...\n",
      "Processing user31_left_session_2_0_1...\n",
      "Processing user31_left_session_2_0_2...\n",
      "Processing user31_right_session_1_0_1...\n",
      "Processing user31_right_session_1_0_2...\n",
      "Processing user31_right_session_2_0_1...\n",
      "Processing user31_right_session_2_0_2...\n",
      "Processing user32_left_session_1_0_1...\n",
      "Processing user32_left_session_1_0_2...\n",
      "Processing user32_left_session_2_0_1...\n",
      "Processing user32_left_session_2_0_2...\n",
      "Processing user32_right_session_1_0_1...\n",
      "Processing user32_right_session_1_0_2...\n",
      "Processing user32_right_session_2_0_1...\n",
      "Processing user32_right_session_2_0_2...\n",
      "Processing user33_left_session_1_0_1...\n",
      "Processing user33_left_session_1_0_2...\n",
      "Processing user33_left_session_2_0_1...\n",
      "Processing user33_left_session_2_0_2...\n",
      "Processing user33_right_session_1_0_1...\n",
      "Processing user33_right_session_1_0_2...\n",
      "Processing user33_right_session_2_0_1...\n",
      "Processing user33_right_session_2_0_2...\n",
      "Processing user34_left_session_1_0_1...\n",
      "Processing user34_left_session_1_0_2...\n",
      "Processing user34_left_session_2_0_1...\n",
      "Processing user34_left_session_2_0_2...\n",
      "Processing user34_right_session_1_0_1...\n",
      "Processing user34_right_session_1_0_2...\n",
      "Processing user34_right_session_2_0_1...\n",
      "Processing user34_right_session_2_0_2...\n",
      "Processing user35_left_session_1_0_1...\n",
      "Processing user35_left_session_1_0_2...\n",
      "Processing user35_left_session_2_0_1...\n",
      "Processing user35_left_session_2_0_2...\n",
      "Processing user35_right_session_1_0_1...\n",
      "Processing user35_right_session_1_0_2...\n",
      "Processing user35_right_session_2_0_1...\n",
      "Processing user35_right_session_2_0_2...\n",
      "Processing user36_left_session_1_0_1...\n",
      "Processing user36_left_session_1_0_2...\n",
      "Processing user36_left_session_2_0_1...\n",
      "Processing user36_left_session_2_0_2...\n",
      "Processing user36_right_session_1_0_1...\n",
      "Processing user37_left_session_1_0_1...\n",
      "Processing user37_left_session_1_0_2...\n",
      "Processing user37_left_session_2_0_1...\n",
      "Processing user37_left_session_2_0_2...\n",
      "Processing user37_right_session_1_0_1...\n",
      "Processing user37_right_session_1_0_2...\n",
      "Processing user37_right_session_2_0_1...\n",
      "Processing user37_right_session_2_0_2...\n",
      "Processing user38_left_session_1_0_1...\n",
      "Processing user38_left_session_1_0_2...\n",
      "Processing user38_left_session_2_0_1...\n",
      "Processing user38_left_session_2_0_2...\n",
      "Processing user38_right_session_1_0_1...\n",
      "Processing user38_right_session_1_0_2...\n",
      "Processing user38_right_session_2_0_1...\n",
      "Processing user38_right_session_2_0_2...\n",
      "Processing user39_left_session_1_0_1...\n",
      "Processing user39_left_session_1_0_2...\n",
      "Processing user39_left_session_2_0_1...\n",
      "Processing user39_left_session_2_0_2...\n",
      "Processing user39_right_session_1_0_1...\n",
      "Processing user39_right_session_1_0_2...\n",
      "Processing user39_right_session_2_0_1...\n",
      "Processing user39_right_session_2_0_2...\n",
      "Processing user40_left_session_1_0_1...\n",
      "Processing user40_left_session_1_0_2...\n",
      "Processing user40_left_session_2_0_1...\n",
      "Processing user40_left_session_2_0_2...\n",
      "Processing user40_right_session_1_0_1...\n",
      "Processing user40_right_session_1_0_2...\n",
      "Processing user40_right_session_2_0_1...\n",
      "Processing user40_right_session_2_0_2...\n",
      "Processing user41_left_session_1_0_1...\n",
      "Processing user41_left_session_1_0_2...\n",
      "Processing user41_left_session_2_0_1...\n",
      "Processing user41_left_session_2_0_2...\n",
      "Processing user41_right_session_1_0_1...\n",
      "Processing user41_right_session_1_0_2...\n",
      "Processing user41_right_session_2_0_1...\n",
      "Processing user41_right_session_2_0_2...\n",
      "Processing user42_left_session_1_0_1...\n",
      "Processing user42_left_session_1_0_2...\n",
      "Processing user42_left_session_2_0_1...\n",
      "Processing user42_left_session_2_0_2...\n",
      "Processing user42_right_session_1_0_1...\n",
      "Processing user42_right_session_1_0_2...\n",
      "Processing user42_right_session_2_0_1...\n",
      "Processing user42_right_session_2_0_2...\n",
      "Processing user43_left_session_1_0_1...\n"
     ]
    },
    {
     "name": "stderr",
     "output_type": "stream",
     "text": [
      "100%|██████████| 5010/5010 [00:08<00:00, 622.52it/s]\n"
     ]
    },
    {
     "name": "stdout",
     "output_type": "stream",
     "text": [
      "Processing user43_left_session_1_0_2...\n"
     ]
    },
    {
     "name": "stderr",
     "output_type": "stream",
     "text": [
      "100%|██████████| 2843/2843 [00:04<00:00, 581.85it/s]\n"
     ]
    },
    {
     "name": "stdout",
     "output_type": "stream",
     "text": [
      "Processing user43_left_session_2_0_1...\n"
     ]
    },
    {
     "name": "stderr",
     "output_type": "stream",
     "text": [
      "100%|██████████| 5002/5002 [00:07<00:00, 693.47it/s]\n"
     ]
    },
    {
     "name": "stdout",
     "output_type": "stream",
     "text": [
      "Processing user43_left_session_2_0_2...\n"
     ]
    },
    {
     "name": "stderr",
     "output_type": "stream",
     "text": [
      "100%|██████████| 2834/2834 [00:04<00:00, 634.39it/s]\n"
     ]
    },
    {
     "name": "stdout",
     "output_type": "stream",
     "text": [
      "Processing user43_right_session_1_0_1...\n"
     ]
    },
    {
     "name": "stderr",
     "output_type": "stream",
     "text": [
      "100%|██████████| 4975/4975 [00:06<00:00, 727.85it/s] \n"
     ]
    },
    {
     "name": "stdout",
     "output_type": "stream",
     "text": [
      "Processing user43_right_session_1_0_2...\n"
     ]
    },
    {
     "name": "stderr",
     "output_type": "stream",
     "text": [
      "100%|██████████| 2819/2819 [00:03<00:00, 705.27it/s]\n"
     ]
    },
    {
     "name": "stdout",
     "output_type": "stream",
     "text": [
      "Processing user43_right_session_2_0_1...\n"
     ]
    },
    {
     "name": "stderr",
     "output_type": "stream",
     "text": [
      "100%|██████████| 4977/4977 [00:05<00:00, 835.34it/s] \n"
     ]
    },
    {
     "name": "stdout",
     "output_type": "stream",
     "text": [
      "Processing user43_right_session_2_0_2...\n"
     ]
    },
    {
     "name": "stderr",
     "output_type": "stream",
     "text": [
      "100%|██████████| 2813/2813 [00:03<00:00, 809.53it/s]\n"
     ]
    },
    {
     "name": "stdout",
     "output_type": "stream",
     "text": [
      "Processing user44_left_session_1_0_1...\n"
     ]
    },
    {
     "name": "stderr",
     "output_type": "stream",
     "text": [
      "100%|██████████| 4990/4990 [00:09<00:00, 501.60it/s]\n"
     ]
    },
    {
     "name": "stdout",
     "output_type": "stream",
     "text": [
      "Processing user44_left_session_1_0_2...\n"
     ]
    },
    {
     "name": "stderr",
     "output_type": "stream",
     "text": [
      "100%|██████████| 2802/2802 [00:05<00:00, 480.29it/s]\n"
     ]
    },
    {
     "name": "stdout",
     "output_type": "stream",
     "text": [
      "Processing user44_left_session_2_0_1...\n"
     ]
    },
    {
     "name": "stderr",
     "output_type": "stream",
     "text": [
      "100%|██████████| 4969/4969 [00:09<00:00, 536.80it/s]\n"
     ]
    },
    {
     "name": "stdout",
     "output_type": "stream",
     "text": [
      "Processing user44_left_session_2_0_2...\n"
     ]
    },
    {
     "name": "stderr",
     "output_type": "stream",
     "text": [
      "100%|██████████| 2787/2787 [00:05<00:00, 489.77it/s]\n"
     ]
    },
    {
     "name": "stdout",
     "output_type": "stream",
     "text": [
      "Processing user44_right_session_1_0_1...\n"
     ]
    },
    {
     "name": "stderr",
     "output_type": "stream",
     "text": [
      "100%|██████████| 4963/4963 [00:07<00:00, 654.56it/s]\n"
     ]
    },
    {
     "name": "stdout",
     "output_type": "stream",
     "text": [
      "Processing user44_right_session_1_0_2...\n"
     ]
    },
    {
     "name": "stderr",
     "output_type": "stream",
     "text": [
      "100%|██████████| 2771/2771 [00:03<00:00, 730.98it/s]\n"
     ]
    },
    {
     "name": "stdout",
     "output_type": "stream",
     "text": [
      "Processing user44_right_session_2_0_1...\n"
     ]
    },
    {
     "name": "stderr",
     "output_type": "stream",
     "text": [
      "100%|██████████| 4937/4937 [00:07<00:00, 680.37it/s]\n"
     ]
    },
    {
     "name": "stdout",
     "output_type": "stream",
     "text": [
      "Processing user44_right_session_2_0_2...\n"
     ]
    },
    {
     "name": "stderr",
     "output_type": "stream",
     "text": [
      "100%|██████████| 2766/2766 [00:04<00:00, 650.95it/s]\n"
     ]
    },
    {
     "name": "stdout",
     "output_type": "stream",
     "text": [
      "Processing user45_left_session_1_0_1...\n"
     ]
    },
    {
     "name": "stderr",
     "output_type": "stream",
     "text": [
      "100%|██████████| 4997/4997 [00:09<00:00, 542.31it/s]\n"
     ]
    },
    {
     "name": "stdout",
     "output_type": "stream",
     "text": [
      "Processing user45_left_session_1_0_2...\n"
     ]
    },
    {
     "name": "stderr",
     "output_type": "stream",
     "text": [
      "100%|██████████| 2875/2875 [00:06<00:00, 460.01it/s]\n"
     ]
    },
    {
     "name": "stdout",
     "output_type": "stream",
     "text": [
      "Processing user45_left_session_2_0_1...\n"
     ]
    },
    {
     "name": "stderr",
     "output_type": "stream",
     "text": [
      "100%|██████████| 4985/4985 [00:09<00:00, 503.71it/s]\n"
     ]
    },
    {
     "name": "stdout",
     "output_type": "stream",
     "text": [
      "Processing user46_left_session_1_0_1...\n"
     ]
    },
    {
     "name": "stderr",
     "output_type": "stream",
     "text": [
      "100%|██████████| 5043/5043 [00:09<00:00, 550.43it/s]\n"
     ]
    },
    {
     "name": "stdout",
     "output_type": "stream",
     "text": [
      "Processing user46_left_session_1_0_2...\n"
     ]
    },
    {
     "name": "stderr",
     "output_type": "stream",
     "text": [
      "100%|██████████| 2823/2823 [00:04<00:00, 646.79it/s]\n"
     ]
    },
    {
     "name": "stdout",
     "output_type": "stream",
     "text": [
      "Processing user46_left_session_2_0_1...\n"
     ]
    },
    {
     "name": "stderr",
     "output_type": "stream",
     "text": [
      "100%|██████████| 5035/5035 [00:10<00:00, 468.40it/s]\n"
     ]
    },
    {
     "name": "stdout",
     "output_type": "stream",
     "text": [
      "Processing user46_left_session_2_0_2...\n"
     ]
    },
    {
     "name": "stderr",
     "output_type": "stream",
     "text": [
      "100%|██████████| 2806/2806 [00:05<00:00, 532.03it/s]\n"
     ]
    },
    {
     "name": "stdout",
     "output_type": "stream",
     "text": [
      "Processing user46_right_session_1_0_1...\n"
     ]
    },
    {
     "name": "stderr",
     "output_type": "stream",
     "text": [
      "100%|██████████| 5019/5019 [00:08<00:00, 621.14it/s]\n"
     ]
    },
    {
     "name": "stdout",
     "output_type": "stream",
     "text": [
      "Processing user46_right_session_1_0_2...\n"
     ]
    },
    {
     "name": "stderr",
     "output_type": "stream",
     "text": [
      "100%|██████████| 2801/2801 [00:03<00:00, 768.52it/s] \n"
     ]
    },
    {
     "name": "stdout",
     "output_type": "stream",
     "text": [
      "Processing user46_right_session_2_0_1...\n"
     ]
    },
    {
     "name": "stderr",
     "output_type": "stream",
     "text": [
      "100%|██████████| 5011/5011 [00:09<00:00, 519.40it/s]\n"
     ]
    },
    {
     "name": "stdout",
     "output_type": "stream",
     "text": [
      "Processing user46_right_session_2_0_2...\n"
     ]
    },
    {
     "name": "stderr",
     "output_type": "stream",
     "text": [
      "100%|██████████| 2780/2780 [00:04<00:00, 610.64it/s]\n"
     ]
    },
    {
     "name": "stdout",
     "output_type": "stream",
     "text": [
      "Processing user47_left_session_1_0_1...\n"
     ]
    },
    {
     "name": "stderr",
     "output_type": "stream",
     "text": [
      "100%|██████████| 4968/4968 [00:08<00:00, 606.02it/s]\n"
     ]
    },
    {
     "name": "stdout",
     "output_type": "stream",
     "text": [
      "Processing user47_left_session_1_0_2...\n"
     ]
    },
    {
     "name": "stderr",
     "output_type": "stream",
     "text": [
      "100%|██████████| 2785/2785 [00:05<00:00, 467.90it/s]\n"
     ]
    },
    {
     "name": "stdout",
     "output_type": "stream",
     "text": [
      "Processing user47_left_session_2_0_1...\n"
     ]
    },
    {
     "name": "stderr",
     "output_type": "stream",
     "text": [
      "100%|██████████| 5020/5020 [00:09<00:00, 544.15it/s]\n"
     ]
    },
    {
     "name": "stdout",
     "output_type": "stream",
     "text": [
      "Processing user47_left_session_2_0_2...\n"
     ]
    },
    {
     "name": "stderr",
     "output_type": "stream",
     "text": [
      "100%|██████████| 2822/2822 [00:07<00:00, 379.05it/s]\n"
     ]
    },
    {
     "name": "stdout",
     "output_type": "stream",
     "text": [
      "Processing user47_right_session_1_0_1...\n"
     ]
    },
    {
     "name": "stderr",
     "output_type": "stream",
     "text": [
      "100%|██████████| 4941/4941 [00:06<00:00, 765.92it/s] \n"
     ]
    },
    {
     "name": "stdout",
     "output_type": "stream",
     "text": [
      "Processing user47_right_session_1_0_2...\n"
     ]
    },
    {
     "name": "stderr",
     "output_type": "stream",
     "text": [
      "100%|██████████| 2760/2760 [00:04<00:00, 683.20it/s]\n"
     ]
    },
    {
     "name": "stdout",
     "output_type": "stream",
     "text": [
      "Processing user47_right_session_2_0_1...\n"
     ]
    },
    {
     "name": "stderr",
     "output_type": "stream",
     "text": [
      "100%|██████████| 4998/4998 [00:06<00:00, 732.41it/s]\n"
     ]
    },
    {
     "name": "stdout",
     "output_type": "stream",
     "text": [
      "Processing user47_right_session_2_0_2...\n"
     ]
    },
    {
     "name": "stderr",
     "output_type": "stream",
     "text": [
      "100%|██████████| 2794/2794 [00:04<00:00, 666.96it/s]\n"
     ]
    },
    {
     "name": "stdout",
     "output_type": "stream",
     "text": [
      "Processing user48_left_session_1_0_1...\n"
     ]
    },
    {
     "name": "stderr",
     "output_type": "stream",
     "text": [
      "100%|██████████| 5060/5060 [00:10<00:00, 502.87it/s]\n"
     ]
    },
    {
     "name": "stdout",
     "output_type": "stream",
     "text": [
      "Processing user48_left_session_1_0_2...\n"
     ]
    },
    {
     "name": "stderr",
     "output_type": "stream",
     "text": [
      "100%|██████████| 2821/2821 [00:06<00:00, 441.81it/s]\n"
     ]
    }
   ],
   "source": [
    "for user_path in user_paths:\n",
    "    print(f\"Processing {user_path.stem}...\")\n",
    "    rgb_path = natsorted(list(user_path.glob(\"*.png\")))\n",
    "    txt_path = Path(f\"{root_txt_path}/{user_path.stem}_events.txt\")\n",
    "    output_path = output_base_path / user_path.stem\n",
    "    os.makedirs(output_path, exist_ok=True)\n",
    "    if not txt_path.exists():\n",
    "        continue\n",
    "    events = TxtProcessor(txt_path).load_events_from_txt()\n",
    "    events_end_time = events['t'][-1]\n",
    "    events_start_time = events['t'][0]\n",
    "    num_frames = (events_end_time - events_start_time) // time_window\n",
    "    count = 0\n",
    "    for rgb in tqdm(rgb_path):\n",
    "        end_time = int(rgb.stem.split(\"_\")[1])\n",
    "        start_time = end_time - time_window\n",
    "        event_segment = slice_events_at_timepoints(events, start_time, end_time)\n",
    "        if len(event_segment) < 1000:\n",
    "            continue\n",
    "        event_frame = to_frame_stack_numpy(\n",
    "            event_segment,\n",
    "            sensor_size,\n",
    "            1,\n",
    "            \"causal_linear\",\n",
    "            start_time,\n",
    "            end_time,\n",
    "        )\n",
    "        event_frame_vis = visualize(event_frame)\n",
    "        event_frame_vis_name = str(output_path / f\"{count:05}_{end_time}.png\")\n",
    "        save_image(event_frame_vis, event_frame_vis_name)\n",
    "        image_gray = load_image(str(rgb), \"grayscale\")[0]\n",
    "        transformed = transform(image=image_gray)\n",
    "        image = transformed[\"image\"]\n",
    "        image = image.unsqueeze(0)\n",
    "        with torch.no_grad():\n",
    "            output = model(image.cuda())\n",
    "        mask = process_model_output(output, use_softmax=True)\n",
    "        mask = mask.detach().cpu().numpy()  # shape: [260, 346]\n",
    "        mask = cv2.resize(\n",
    "            mask,\n",
    "            (sensor_size[0], sensor_size[1]),\n",
    "            interpolation=cv2.INTER_NEAREST,\n",
    "        )\n",
    "        mask_vis = draw_contour(mask)\n",
    "        save_image(mask_vis, str(output_path / f\"{count:05}_{end_time}_mask.png\"))\n",
    "        image_name = str(output_path / f\"{count:05}_{end_time}_rgb.png\")\n",
    "        save_image(image_gray, image_name)\n",
    "        count += 1"
   ]
  }
 ],
 "metadata": {
  "kernelspec": {
   "display_name": "EvEye",
   "language": "python",
   "name": "python3"
  },
  "language_info": {
   "codemirror_mode": {
    "name": "ipython",
    "version": 3
   },
   "file_extension": ".py",
   "mimetype": "text/x-python",
   "name": "python",
   "nbconvert_exporter": "python",
   "pygments_lexer": "ipython3",
   "version": "3.10.14"
  }
 },
 "nbformat": 4,
 "nbformat_minor": 2
}
