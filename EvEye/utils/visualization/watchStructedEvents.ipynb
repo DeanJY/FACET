{
 "cells": [
  {
   "cell_type": "code",
   "execution_count": 1,
   "metadata": {},
   "outputs": [
    {
     "name": "stderr",
     "output_type": "stream",
     "text": [
      "/home/junyuan/anaconda3/envs/EvEye/lib/python3.10/site-packages/tqdm/auto.py:21: TqdmWarning: IProgress not found. Please update jupyter and ipywidgets. See https://ipywidgets.readthedocs.io/en/stable/user_install.html\n",
      "  from .autonotebook import tqdm as notebook_tqdm\n"
     ]
    }
   ],
   "source": [
    "import cv2\n",
    "import tonic\n",
    "import os\n",
    "import numpy as np\n",
    "import matplotlib.pyplot as plt\n",
    "import tonic.transforms as transforms\n",
    "import tonic.slicers as slicers\n",
    "\n",
    "from tqdm import tqdm\n",
    "from EvEye.utils.tonic.slicers.SliceWithTimestampAndCount import (\n",
    "    slice_events_by_timestamp_and_count,\n",
    ")\n",
    "from EvEye.utils.tonic.slicers.SliceEventsAtIndices import slice_events_at_timepoints\n",
    "from EvEye.utils.cache.MemmapCacheStructedEvents import *\n",
    "from EvEye.utils.visualization.visualization import visualize, save_image\n",
    "from EvEye.utils.processor.TxtProcessor import TxtProcessor\n",
    "from EvEye.utils.tonic.functional.ToFrameStack import to_frame_stack_numpy\n",
    "from EvEye.utils.tonic.functional.CutMaxCount import cut_max_count\n",
    "from EvEye.utils.tonic.functional.PlotDistribution import plot_histogram, plot_KDE"
   ]
  },
  {
   "cell_type": "code",
   "execution_count": 2,
   "metadata": {},
   "outputs": [],
   "source": [
    "data_path = \"/mnt/data2T/junyuan/eye-tracking/datasets/DavisEyeCenterDataset/test/data/user43_left_session_1_0_1_events.txt\"\n",
    "output_path = \"/mnt/data2T/junyuan/eye-tracking/outputs/CountsRange\"\n",
    "txt_processor = TxtProcessor(data_path)\n",
    "events = txt_processor.load_events_from_txt()\n",
    "events['t'] -= events['t'][0]\n",
    "segment_num = events['t'][-1] // 40000\n",
    "sensor_size = (346, 260, 2)\n",
    "time_window = 40000\n",
    "start = 0\n",
    "interval_length = 200\n",
    "interval_num = 100"
   ]
  },
  {
   "cell_type": "code",
   "execution_count": 3,
   "metadata": {},
   "outputs": [],
   "source": [
    "def get_range(start, interval_length, interval_num):\n",
    "    counts = []\n",
    "    for index in range(interval_num):\n",
    "        start_point = start + index * interval_length\n",
    "        end_point = start_point + interval_length\n",
    "        counts.append((start_point, end_point))\n",
    "    return counts"
   ]
  },
  {
   "cell_type": "code",
   "execution_count": 4,
   "metadata": {},
   "outputs": [],
   "source": [
    "counts_range = get_range(start, interval_length, interval_num)\n",
    "for index in range(segment_num):\n",
    "    start_time = index * time_window\n",
    "    end_time = (index + 1) * time_window\n",
    "    event_segement = slice_events_at_timepoints(events, start_time, end_time)\n",
    "    event_counts = event_segement['t'].shape[0]\n",
    "    for count_range in counts_range:\n",
    "        if count_range[0] <= event_counts <= count_range[1]:\n",
    "            event_frame = to_frame_stack_numpy(\n",
    "                event_segement, sensor_size, 1, \"causal_linear\", start_time, end_time\n",
    "            )\n",
    "            event_frame_vis = visualize(event_frame)\n",
    "            # print(f\"Segment {index} with {event_counts} events\")\n",
    "            folder_path = f\"{output_path}/{count_range[0]:05d}-{count_range[1]:05d}\"\n",
    "            os.makedirs(folder_path, exist_ok=True)\n",
    "            save_image(\n",
    "                event_frame_vis,\n",
    "                f\"{folder_path}/segment_{index}_with_{event_counts}_events.png\",\n",
    "                BGR2RGB=True,\n",
    "            )"
   ]
  },
  {
   "cell_type": "code",
   "execution_count": null,
   "metadata": {},
   "outputs": [],
   "source": [
    "cache_data_path = \"/mnt/data2T/junyuan/eye-tracking/datasets/MemmapDavisEyeCenterDataset/train/cached_data\"\n",
    "cache_label_path = \"/mnt/data2T/junyuan/eye-tracking/datasets/MemmapDavisEyeCenterDataset/train/cached_label\"\n",
    "events_list = load_cached_structed_events(cache_data_path)\n",
    "labels_list = load_cached_structed_labels(cache_label_path)"
   ]
  },
  {
   "cell_type": "code",
   "execution_count": null,
   "metadata": {},
   "outputs": [],
   "source": [
    "event = events_list[0]\n",
    "label = labels_list[0]\n",
    "sensor_size = (346, 260, 2)"
   ]
  },
  {
   "cell_type": "code",
   "execution_count": null,
   "metadata": {},
   "outputs": [],
   "source": [
    "label"
   ]
  },
  {
   "cell_type": "code",
   "execution_count": null,
   "metadata": {},
   "outputs": [],
   "source": [
    "frame_transform = transforms.ToFrame(\n",
    "    sensor_size=sensor_size, time_window=40000, include_incomplete=True\n",
    ")\n",
    "frames = frame_transform(event)\n",
    "frames_vis = visualize(frames)\n",
    "frames.shape, frames_vis.shape"
   ]
  },
  {
   "cell_type": "code",
   "execution_count": null,
   "metadata": {},
   "outputs": [],
   "source": [
    "\"\"\"Show the frames with slice_events_by_timestamp_and_count\"\"\"\n",
    "\n",
    "count = 5000\n",
    "for index in range(len(label)):\n",
    "    event_segement = slice_events_by_timestamp_and_count(\n",
    "        event, label[\"t\"][index], count\n",
    "    )\n",
    "    transform = transforms.ToFrame(\n",
    "        sensor_size=sensor_size, n_event_bins=1, include_incomplete=True\n",
    "    )\n",
    "    frame = transform(event_segement)\n",
    "    frame_vis = visualize(frame)\n",
    "    center_x, center_y = label[\"x\"][index], label[\"y\"][index]\n",
    "    cv2.circle(frame_vis, (center_x, center_y), 3, (0, 255, 0), -1)\n",
    "    plt.imshow(frame_vis)\n",
    "    plt.axis(\"off\")\n",
    "    plt.show()"
   ]
  },
  {
   "cell_type": "code",
   "execution_count": null,
   "metadata": {},
   "outputs": [],
   "source": [
    "\"\"\"Show the frames\"\"\"\n",
    "\n",
    "for index in range(100, 200):\n",
    "    # frame_vis = np.concatenate([frames_vis[index], frames_vis[index]], axis=1)\n",
    "    # frame_vis = cv2.cvtColor(frame_vis, cv2.COLOR_BGR2RGB)\n",
    "    center_x, center_y = label[\"x\"][index], label[\"y\"][index]\n",
    "    cv2.circle(frames_vis[index], (center_x, center_y), 3, (0, 255, 0), -1)\n",
    "    plt.imshow(frames_vis[index])\n",
    "    plt.axis(\"off\")\n",
    "    plt.show()"
   ]
  },
  {
   "cell_type": "code",
   "execution_count": null,
   "metadata": {},
   "outputs": [],
   "source": [
    "\"\"\"Save the frames\"\"\"\n",
    "\n",
    "# for index in tqdm(total=range(frames_vis.shape[0]), desc=\"Saving images\"):\n",
    "#     center_x, center_y = label['x'][index], label['y'][index]\n",
    "#     cv2.circle(frames_vis[index], (center_x, center_y), 3, (0, 255, 0), -1)\n",
    "#     save_image(frames_vis[index], f\"/mnt/data2T/junyuan/eye-tracking/some/{index}.png\")"
   ]
  }
 ],
 "metadata": {
  "kernelspec": {
   "display_name": "EvEye",
   "language": "python",
   "name": "python3"
  },
  "language_info": {
   "codemirror_mode": {
    "name": "ipython",
    "version": 3
   },
   "file_extension": ".py",
   "mimetype": "text/x-python",
   "name": "python",
   "nbconvert_exporter": "python",
   "pygments_lexer": "ipython3",
   "version": "3.10.14"
  },
  "orig_nbformat": 4
 },
 "nbformat": 4,
 "nbformat_minor": 2
}
