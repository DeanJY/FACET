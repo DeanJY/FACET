{
 "cells": [
  {
   "cell_type": "code",
   "execution_count": 1,
   "metadata": {},
   "outputs": [],
   "source": [
    "import cv2\n",
    "import numpy as np\n",
    "import matplotlib.pyplot as plt\n",
    "import plotly.graph_objs as go\n",
    "from pathlib import Path\n",
    "from EvEye.utils.visualization.visualization import *\n",
    "from natsort import natsorted\n",
    "from EvEye.utils.processor.TxtProcessor import TxtProcessor\n",
    "from EvEye.utils.processor.HDF5Processor import HDF5Processor\n",
    "from EvEye.utils.tonic.slicers.SliceEventsAtIndices import slice_events_at_timepoints\n",
    "from EvEye.utils.tonic.functional.ToFrameStack import to_frame_stack_numpy\n",
    "from tqdm import tqdm\n",
    "from EvEye.utils.cache.MemmapCacheStructedEvents import *"
   ]
  },
  {
   "cell_type": "code",
   "execution_count": 2,
   "metadata": {},
   "outputs": [],
   "source": [
    "data_path = Path(\"/mnt/data2T/junyuan/Datasets/FixedCount5000Dataset/train/cached_data\")\n",
    "event_segment = load_event_segment(888, data_path, 5000)\n",
    "x = np.array(event_segment['x'])\n",
    "y = np.array(event_segment['y'])\n",
    "p = np.array(event_segment['p'])\n",
    "t = np.array(event_segment['t'])\n",
    "t -= t[0]"
   ]
  },
  {
   "cell_type": "code",
   "execution_count": 3,
   "metadata": {},
   "outputs": [],
   "source": [
    "sensor_size = (346,260,2)"
   ]
  },
  {
   "cell_type": "code",
   "execution_count": 4,
   "metadata": {},
   "outputs": [],
   "source": [
    "event_frame = to_frame_stack_numpy(event_segment,sensor_size,1,\"causal_linear\", event_segment['t'][0], event_segment['t'][-1], 1)\n",
    "event_frame_vis = visualize(event_frame)"
   ]
  },
  {
   "cell_type": "code",
   "execution_count": 5,
   "metadata": {},
   "outputs": [
    {
     "data": {
      "text/plain": [
       "True"
      ]
     },
     "execution_count": 5,
     "metadata": {},
     "output_type": "execute_result"
    }
   ],
   "source": [
    "output_image_path = \"/mnt/data2T/junyuan/eye-tracking/images/all.png\"\n",
    "save_image(event_frame_vis,output_image_path)"
   ]
  },
  {
   "cell_type": "code",
   "execution_count": null,
   "metadata": {},
   "outputs": [],
   "source": [
    "colors = np.where(p == 0, 'blue', 'red')\n",
    "\n",
    "trace = go.Scatter3d(\n",
    "    x=t,\n",
    "    y=x,\n",
    "    z=y,\n",
    "    mode='markers',\n",
    "    marker=dict(\n",
    "        size=2,  # 点的大小\n",
    "        color=colors,\n",
    "        opacity=0.8\n",
    "    )\n",
    ")\n",
    "\n",
    "layout = go.Layout(\n",
    "    scene=dict(\n",
    "        xaxis=dict(\n",
    "            showbackground=False,  # 不显示背景\n",
    "            showgrid=False,        # 不显示网格线\n",
    "            zeroline=False,        # 不显示零线\n",
    "            showline=False,        # 不显示轴线\n",
    "            showticklabels=False,  # 不显示刻度标签\n",
    "            title=''               # 不显示标题\n",
    "        ),\n",
    "        yaxis=dict(\n",
    "            showbackground=False,\n",
    "            showgrid=False,\n",
    "            zeroline=False,\n",
    "            showline=False,\n",
    "            showticklabels=False,\n",
    "            title=''\n",
    "        ),\n",
    "        zaxis=dict(\n",
    "            showbackground=False,\n",
    "            showgrid=False,\n",
    "            zeroline=False,\n",
    "            showline=False,\n",
    "            showticklabels=False,\n",
    "            title=''\n",
    "        )\n",
    "    )\n",
    ")\n",
    "\n",
    "fig = go.Figure(data=[trace], layout=layout)\n",
    "fig.write_html(\"/mnt/data2T/junyuan/eye-tracking/images/3d_scatter_plot.html\")\n",
    "# 显示图形\n",
    "fig.show()"
   ]
  },
  {
   "cell_type": "code",
   "execution_count": null,
   "metadata": {},
   "outputs": [],
   "source": [
    "from PIL import Image\n",
    "\n",
    "# 读取图片\n",
    "input_image_path = '/mnt/data2T/junyuan/eye-tracking/images/3D.png'\n",
    "output_image_path = '/mnt/data2T/junyuan/eye-tracking/images/3d.png'\n",
    "\n",
    "# 打开图像\n",
    "image = Image.open(input_image_path).convert(\"RGBA\")\n",
    "\n",
    "# 获取图像数据\n",
    "data = image.getdata()\n",
    "\n",
    "# 创建一个新的数据列表，用于存储修改后的像素值\n",
    "new_data = []\n",
    "\n",
    "# 替换白色背景为透明\n",
    "for item in data:\n",
    "    # 检查像素是否为白色\n",
    "    if item[:3] == (255, 255, 255):\n",
    "        # 将白色像素替换为透明\n",
    "        new_data.append((255, 255, 255, 0))\n",
    "    else:\n",
    "        new_data.append(item)\n",
    "\n",
    "# 更新图像数据\n",
    "image.putdata(new_data)\n",
    "\n",
    "# 保存修改后的图像\n",
    "image.save(output_image_path, \"PNG\")\n",
    "\n",
    "print(f\"图片已保存到 {output_image_path}\")"
   ]
  }
 ],
 "metadata": {
  "kernelspec": {
   "display_name": "EvEye",
   "language": "python",
   "name": "python3"
  },
  "language_info": {
   "codemirror_mode": {
    "name": "ipython",
    "version": 3
   },
   "file_extension": ".py",
   "mimetype": "text/x-python",
   "name": "python",
   "nbconvert_exporter": "python",
   "pygments_lexer": "ipython3",
   "version": "3.10.14"
  },
  "orig_nbformat": 4
 },
 "nbformat": 4,
 "nbformat_minor": 2
}
