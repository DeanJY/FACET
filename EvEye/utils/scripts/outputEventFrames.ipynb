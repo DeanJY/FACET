{
 "cells": [
  {
   "cell_type": "code",
   "execution_count": null,
   "metadata": {},
   "outputs": [],
   "source": [
    "import os\n",
    "import numpy as np\n",
    "from tqdm import tqdm\n",
    "from pathlib import Path\n",
    "from EvEye.utils.tonic.functional.ToFrameStack import to_frame_stack_numpy\n",
    "from EvEye.utils.tonic.slicers.SliceEventsAtIndices import slice_events_at_timepoints\n",
    "from EvEye.utils.processor.TxtProcessor import TxtProcessor\n",
    "from EvEye.utils.visualization.visualization import visualize, save_image\n",
    "from tqdm import tqdm\n",
    "from natsort import natsorted"
   ]
  },
  {
   "cell_type": "code",
   "execution_count": null,
   "metadata": {},
   "outputs": [],
   "source": [
    "time_window = 10000\n",
    "sensor_size = (346, 260, 2)"
   ]
  },
  {
   "cell_type": "code",
   "execution_count": null,
   "metadata": {},
   "outputs": [],
   "source": [
    "root_path = Path(\n",
    "    \"/mnt/data2T/junyuan/eye-tracking/datasets/DavisEyeCenterDataset/test/data\"\n",
    ")\n",
    "output_base_path = Path(\"/mnt/data2T/junyuan/eye-tracking/outputs/EventFrames10000\")\n",
    "data_paths = natsorted(list(root_path.glob(\"*.txt\")))\n",
    "for data_path in data_paths:\n",
    "    output_base_name = data_path.stem\n",
    "    output_path = output_base_path / output_base_name\n",
    "    os.makedirs(output_path, exist_ok=True)\n",
    "    print(f\"Outputing {output_base_name}...\")\n",
    "\n",
    "    events = TxtProcessor(data_path).load_events_from_txt()\n",
    "    events_end_time = events['t'][-1]\n",
    "    events_start_time = events['t'][0]\n",
    "    num_frames = (events_end_time - events_start_time) // time_window\n",
    "    count = 0\n",
    "    for index in tqdm(range(num_frames)):\n",
    "        start_time = events_start_time + index * time_window\n",
    "        end_time = start_time + time_window\n",
    "        event_segment = slice_events_at_timepoints(events, start_time, end_time)\n",
    "        if len(event_segment) < 800:\n",
    "            continue\n",
    "        event_frame = to_frame_stack_numpy(\n",
    "            event_segment,\n",
    "            sensor_size,\n",
    "            1,\n",
    "            \"causal_linear\",\n",
    "            start_time,\n",
    "            end_time,\n",
    "        )\n",
    "        event_frame_vis = visualize(event_frame)\n",
    "        event_frame_vis_name = str(output_path / f\"{count:05}_{end_time}.png\")\n",
    "        save_image(event_frame_vis, event_frame_vis_name)\n",
    "        count += 1"
   ]
  }
 ],
 "metadata": {
  "kernelspec": {
   "display_name": "EvEye",
   "language": "python",
   "name": "python3"
  },
  "language_info": {
   "codemirror_mode": {
    "name": "ipython",
    "version": 3
   },
   "file_extension": ".py",
   "mimetype": "text/x-python",
   "name": "python",
   "nbconvert_exporter": "python",
   "pygments_lexer": "ipython3",
   "version": "3.10.14"
  }
 },
 "nbformat": 4,
 "nbformat_minor": 2
}
