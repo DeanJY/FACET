{
 "cells": [
  {
   "cell_type": "code",
   "execution_count": 1,
   "metadata": {},
   "outputs": [],
   "source": [
    "import os\n",
    "import requests\n",
    "import pandas as pd\n",
    "from tensorboard.backend.event_processing import event_accumulator"
   ]
  },
  {
   "cell_type": "code",
   "execution_count": 2,
   "metadata": {},
   "outputs": [],
   "source": [
    "tags = ['val_mean_distance', 'val_p1_acc', 'val_p5_acc', 'val_p10_acc']\n",
    "log_root_dir = '/mnt/data2T/junyuan/eye-tracking/logs'\n",
    "output_dir = '/mnt/data2T/junyuan/eye-tracking/outputs/TensorboarOutputs'\n",
    "os.makedirs(output_dir, exist_ok=True)"
   ]
  },
  {
   "cell_type": "code",
   "execution_count": 3,
   "metadata": {},
   "outputs": [
    {
     "name": "stdout",
     "output_type": "stream",
     "text": [
      "Saved /mnt/data2T/junyuan/eye-tracking/outputs/TensorboarOutputs/EPNet_FixedCount5000_TrigERAugFPN2d_AllAug_version_0.csv\n",
      "Saved /mnt/data2T/junyuan/eye-tracking/outputs/TensorboarOutputs/RGBUNet_version_0.csv\n",
      "Saved /mnt/data2T/junyuan/eye-tracking/outputs/TensorboarOutputs/EventUNet_version_0.csv\n",
      "Saved /mnt/data2T/junyuan/eye-tracking/outputs/TensorboarOutputs/ElNet_FixedCount5000_version_0.csv\n",
      "Saved /mnt/data2T/junyuan/eye-tracking/outputs/TensorboarOutputs/EPNet_FixedCount5000_TrigERAugFPN2d_NoAllAug_version_0.csv\n"
     ]
    }
   ],
   "source": [
    "def find_event_files(root_dir):\n",
    "    \"\"\"递归查找所有TensorBoard事件文件\"\"\"\n",
    "    event_files = []\n",
    "    for root, dirs, files in os.walk(root_dir):\n",
    "        for file in files:\n",
    "            if file.startswith('events.out.tfevents'):\n",
    "                event_files.append(os.path.join(root, file))\n",
    "    return event_files\n",
    "\n",
    "def extract_experiment_name(event_file):\n",
    "    \"\"\"从文件路径中提取实验名称\"\"\"\n",
    "    parts = event_file.split(os.sep)\n",
    "    # 假设实验名称在路径的倒数第三层和倒数第二层\n",
    "    experiment_name = f\"{parts[-3]}_{parts[-2]}\"\n",
    "    return experiment_name\n",
    "\n",
    "def save_scalars_to_csv(event_file, tags, output_dir):\n",
    "    \"\"\"保存标量数据为CSV文件\"\"\"\n",
    "    ea = event_accumulator.EventAccumulator(event_file)\n",
    "    ea.Reload()\n",
    "\n",
    "    experiment_name = extract_experiment_name(event_file)\n",
    "\n",
    "    # 初始化一个空的DataFrame\n",
    "    df = pd.DataFrame()\n",
    "\n",
    "    for tag in tags:\n",
    "        if tag in ea.Tags()['scalars']:\n",
    "            scalars = ea.Scalars(tag)\n",
    "            tag_df = pd.DataFrame(scalars)\n",
    "            tag_df.rename(columns={'value': tag}, inplace=True)\n",
    "            if df.empty:\n",
    "                df = tag_df[['step', tag]]\n",
    "            else:\n",
    "                df = pd.merge(df, tag_df[['step', tag]], on='step', how='outer')\n",
    "\n",
    "    if not df.empty:\n",
    "        output_file = os.path.join(output_dir, f'{experiment_name}.csv')\n",
    "        df.to_csv(output_file, index=False)\n",
    "        print(f'Saved {output_file}')\n",
    "\n",
    "# 查找所有事件文件\n",
    "event_files = find_event_files(log_root_dir)\n",
    "\n",
    "# 保存每个事件文件中的标量数据为CSV文件\n",
    "for event_file in event_files:\n",
    "    save_scalars_to_csv(event_file, tags, output_dir)"
   ]
  }
 ],
 "metadata": {
  "kernelspec": {
   "display_name": "EvEye",
   "language": "python",
   "name": "python3"
  },
  "language_info": {
   "codemirror_mode": {
    "name": "ipython",
    "version": 3
   },
   "file_extension": ".py",
   "mimetype": "text/x-python",
   "name": "python",
   "nbconvert_exporter": "python",
   "pygments_lexer": "ipython3",
   "version": "3.10.14"
  },
  "orig_nbformat": 4
 },
 "nbformat": 4,
 "nbformat_minor": 2
}
