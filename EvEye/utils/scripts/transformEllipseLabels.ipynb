{
 "cells": [
  {
   "cell_type": "code",
   "execution_count": 1,
   "metadata": {},
   "outputs": [],
   "source": [
    "from pathlib import Path\n",
    "from natsort import natsorted\n",
    "from tqdm import tqdm\n",
    "from EvEye.utils.processor.TxtProcessor import TxtProcessor\n",
    "import pprint"
   ]
  },
  {
   "cell_type": "code",
   "execution_count": 2,
   "metadata": {},
   "outputs": [],
   "source": [
    "base_path = Path(\"/mnt/data2T/junyuan/eye-tracking/DeanDataset/label.txt\")\n",
    "output_path = Path(\"/mnt/data2T/junyuan/eye-tracking/DeanDataset/ellipse.txt\")"
   ]
  },
  {
   "cell_type": "code",
   "execution_count": 3,
   "metadata": {},
   "outputs": [],
   "source": [
    "ellipse = TxtProcessor(base_path).load_ellipses_from_txt()\n",
    "t = ellipse['t']\n",
    "x = ellipse['x']\n",
    "y = ellipse['y']\n",
    "a = ellipse['a']\n",
    "b = ellipse['b']\n",
    "ang = ellipse['ang']\n",
    "for i in range(len(t)):\n",
    "    if a[i] < b[i]:\n",
    "        a[i], b[i] = b[i], a[i]\n",
    "        ang[i] += 90\n",
    "    while ang[i] > 90 or ang[i] < -90:\n",
    "        if ang[i] > 90:\n",
    "            ang[i] -= 180\n",
    "        elif ang[i] < -90:\n",
    "            ang[i] += 180\n",
    "    ang[i] = ang[i].round(2)\n",
    "with open(output_path, 'w') as f:\n",
    "    for i in range(len(t)):\n",
    "        f.write(f\"{t[i]} {x[i]} {y[i]} {a[i]} {b[i]} {ang[i]}\\n\")"
   ]
  },
  {
   "cell_type": "code",
   "execution_count": 9,
   "metadata": {},
   "outputs": [
    {
     "name": "stderr",
     "output_type": "stream",
     "text": [
      "  0%|          | 0/362 [00:00<?, ?it/s]"
     ]
    },
    {
     "name": "stderr",
     "output_type": "stream",
     "text": [
      "100%|██████████| 362/362 [00:01<00:00, 186.34it/s]\n"
     ]
    }
   ],
   "source": [
    "ellipse_paths = natsorted(base_path.glob(\"*.txt\"))\n",
    "for index, ellipse_path in enumerate(tqdm(ellipse_paths, total=len(ellipse_paths))):\n",
    "    ellipse = TxtProcessor(ellipse_path).load_ellipses_from_txt()\n",
    "    t = ellipse['t']\n",
    "    x = ellipse['x']\n",
    "    y = ellipse['y']\n",
    "    a = ellipse['a']\n",
    "    b = ellipse['b']\n",
    "    ang = ellipse['ang']\n",
    "    for i in range(len(t)):\n",
    "        if a[i] < b[i]:\n",
    "            a[i], b[i] = b[i], a[i]\n",
    "            ang[i] += 90\n",
    "        while ang[i] > 90 or ang[i] < -90:\n",
    "            if ang[i] > 90:\n",
    "                ang[i] -= 180\n",
    "            elif ang[i] < -90:\n",
    "                ang[i] += 180\n",
    "        ang[i] = ang[i].round(2)\n",
    "    with open(output_path / ellipse_path.name, 'w') as f:\n",
    "        for i in range(len(t)):\n",
    "            f.write(f\"{t[i]} {x[i]} {y[i]} {a[i]} {b[i]} {ang[i]}\\n\")"
   ]
  },
  {
   "cell_type": "code",
   "execution_count": 10,
   "metadata": {},
   "outputs": [],
   "source": [
    "ellipse_path = ellipse_paths[0]\n",
    "ellipse = TxtProcessor(ellipse_path).load_ellipses_from_txt()\n",
    "t = ellipse['t']\n",
    "x = ellipse['x']\n",
    "y = ellipse['y']\n",
    "a = ellipse['a']\n",
    "b = ellipse['b']\n",
    "ang = ellipse['ang']"
   ]
  },
  {
   "cell_type": "code",
   "execution_count": 11,
   "metadata": {},
   "outputs": [],
   "source": [
    "for i in range(len(t)):\n",
    "    if a[i] < b[i]:\n",
    "        a[i], b[i] = b[i], a[i]\n",
    "        ang[i] += 90\n",
    "    while ang[i] > 90 or ang[i] < -90:\n",
    "        if ang[i] > 90:\n",
    "            ang[i] -= 180\n",
    "        elif ang[i] < -90:\n",
    "            ang[i] += 180"
   ]
  },
  {
   "cell_type": "code",
   "execution_count": 12,
   "metadata": {},
   "outputs": [
    {
     "data": {
      "text/plain": [
       "-11.550000000000011"
      ]
     },
     "execution_count": 12,
     "metadata": {},
     "output_type": "execute_result"
    }
   ],
   "source": [
    "ang[1]"
   ]
  }
 ],
 "metadata": {
  "kernelspec": {
   "display_name": "EvEye",
   "language": "python",
   "name": "python3"
  },
  "language_info": {
   "codemirror_mode": {
    "name": "ipython",
    "version": 3
   },
   "file_extension": ".py",
   "mimetype": "text/x-python",
   "name": "python",
   "nbconvert_exporter": "python",
   "pygments_lexer": "ipython3",
   "version": "3.10.14"
  }
 },
 "nbformat": 4,
 "nbformat_minor": 2
}
