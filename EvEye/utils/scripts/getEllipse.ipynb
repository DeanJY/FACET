{
 "cells": [
  {
   "cell_type": "code",
   "execution_count": 29,
   "metadata": {},
   "outputs": [],
   "source": [
    "import cv2\n",
    "import numpy as np\n",
    "from pathlib import Path\n",
    "from EvEye.utils.visualization.visualization import *\n",
    "import matplotlib.pyplot as plt\n",
    "from natsort import natsorted"
   ]
  },
  {
   "cell_type": "code",
   "execution_count": 30,
   "metadata": {},
   "outputs": [],
   "source": [
    "root_path = Path(\n",
    "    \"/mnt/data2T/junyuan/eye-tracking/outputs/EventMasks/user1_left_session_1_0_1\"\n",
    ")"
   ]
  },
  {
   "cell_type": "code",
   "execution_count": 31,
   "metadata": {},
   "outputs": [],
   "source": [
    "def get_masks(root_path):\n",
    "    masks = []\n",
    "    for file in root_path.iterdir():\n",
    "        if file.suffix == \".png\":\n",
    "            if file.stem.split(\"_\")[-1] == \"mask\":\n",
    "                masks.append(file)\n",
    "    return natsorted(masks)"
   ]
  },
  {
   "cell_type": "code",
   "execution_count": 32,
   "metadata": {},
   "outputs": [],
   "source": [
    "def draw_ellipse(canvas, ellipse):\n",
    "    \"\"\"\n",
    "    在给定的画布上绘制椭圆及其特征点。\n",
    "\n",
    "    参数:\n",
    "    canvas: 要绘制的画布\n",
    "    ellipse: cv2.fitEllipse 返回的椭圆参数\n",
    "    \"\"\"\n",
    "    # 获取椭圆参数\n",
    "    center = ellipse[0]  # 椭圆中心 (x, y)\n",
    "    axes = ellipse[1]  # 长轴和短轴 (长轴, 短轴)\n",
    "    angle = ellipse[2]  # 旋转角度\n",
    "\n",
    "    # 在画布上绘制椭圆\n",
    "    cv2.ellipse(canvas, ellipse, (0, 255, 0), 1)  # 白色的椭圆\n",
    "\n",
    "    # 计算长轴的端点\n",
    "    long_axis_start = (\n",
    "        int(center[0] - axes[0] / 2 * np.cos(np.radians(angle))),\n",
    "        int(center[1] - axes[0] / 2 * np.sin(np.radians(angle))),\n",
    "    )\n",
    "    long_axis_end = (\n",
    "        int(center[0] + axes[0] / 2 * np.cos(np.radians(angle))),\n",
    "        int(center[1] + axes[0] / 2 * np.sin(np.radians(angle))),\n",
    "    )\n",
    "\n",
    "    # 绘制长轴\n",
    "    cv2.line(canvas, long_axis_start, long_axis_end, (0, 255, 0), 1)  # 绿的长轴\n",
    "\n",
    "    # 计算短轴的端点\n",
    "    short_axis_start = (\n",
    "        int(center[0] - axes[1] / 2 * np.sin(np.radians(angle))),\n",
    "        int(center[1] + axes[1] / 2 * np.cos(np.radians(angle))),\n",
    "    )\n",
    "    short_axis_end = (\n",
    "        int(center[0] + axes[1] / 2 * np.sin(np.radians(angle))),\n",
    "        int(center[1] - axes[1] / 2 * np.cos(np.radians(angle))),\n",
    "    )\n",
    "\n",
    "    # 绘制短轴\n",
    "    cv2.line(canvas, short_axis_start, short_axis_end, (255, 255, 0), 1)  # 黄色的短轴\n",
    "\n",
    "    # 绘制中心点\n",
    "    cv2.circle(\n",
    "        canvas, (int(center[0]), int(center[1])), 2, (0, 0, 255), -1\n",
    "    )  # 红色的中心点\n",
    "\n",
    "    # 打印椭圆参数，保留两位小数\n",
    "    print(\n",
    "        f\"椭圆中心: ({center[0]:.2f}, {center[1]:.2f}), 长轴: {axes[0]:.2f}, 短轴: {axes[1]:.2f}, 旋转角度: {angle:.2f}\"\n",
    "    )"
   ]
  },
  {
   "cell_type": "code",
   "execution_count": 33,
   "metadata": {},
   "outputs": [],
   "source": [
    "masks = natsorted(get_masks(root_path))\n",
    "mask = natsorted(masks)[5]"
   ]
  },
  {
   "cell_type": "code",
   "execution_count": 35,
   "metadata": {},
   "outputs": [
    {
     "name": "stdout",
     "output_type": "stream",
     "text": [
      "椭圆中心: (184.51, 139.14), 长轴: 41.00, 短轴: 48.12, 旋转角度: 82.49\n",
      "((184.5068359375, 139.13592529296875), (41.00020980834961, 48.12195587158203), 82.49444580078125)\n",
      "<class 'tuple'>\n",
      "3\n"
     ]
    }
   ],
   "source": [
    "raw_image = load_image(str(mask))[0]\n",
    "gray_image = cv2.cvtColor(raw_image, cv2.COLOR_BGR2GRAY)\n",
    "contours, _ = cv2.findContours(gray_image, cv2.RETR_EXTERNAL, cv2.CHAIN_APPROX_SIMPLE)\n",
    "canvas = np.zeros_like(raw_image)\n",
    "for contour in contours:\n",
    "    if len(contour) > 5:\n",
    "        ellipse = cv2.fitEllipse(contour)\n",
    "        draw_ellipse(canvas, ellipse)\n",
    "        print(ellipse)\n",
    "        print(type(ellipse))\n",
    "        print(len(ellipse))"
   ]
  },
  {
   "cell_type": "code",
   "execution_count": 36,
   "metadata": {},
   "outputs": [
    {
     "data": {
      "text/plain": [
       "<matplotlib.image.AxesImage at 0x7f14c5252290>"
      ]
     },
     "execution_count": 36,
     "metadata": {},
     "output_type": "execute_result"
    },
    {
     "data": {
      "image/png": "[encoded data removed]",
      "text/plain": [
       "<Figure size 640x480 with 1 Axes>"
      ]
     },
     "metadata": {},
     "output_type": "display_data"
    }
   ],
   "source": [
    "plt.imshow(raw_image)"
   ]
  },
  {
   "cell_type": "code",
   "execution_count": 37,
   "metadata": {},
   "outputs": [
    {
     "data": {
      "text/plain": [
       "<matplotlib.image.AxesImage at 0x7f14c5126020>"
      ]
     },
     "execution_count": 37,
     "metadata": {},
     "output_type": "execute_result"
    },
    {
     "data": {
      "image/png": "[encoded data removed]",
      "text/plain": [
       "<Figure size 640x480 with 1 Axes>"
      ]
     },
     "metadata": {},
     "output_type": "display_data"
    }
   ],
   "source": [
    "canvas = cv2.cvtColor(canvas, cv2.COLOR_BGR2RGB)\n",
    "plt.imshow(canvas)"
   ]
  },
  {
   "cell_type": "code",
   "execution_count": 38,
   "metadata": {},
   "outputs": [
    {
     "data": {
      "text/plain": [
       "((184.5068359375, 139.13592529296875),\n",
       " (41.00020980834961, 48.12195587158203),\n",
       " 82.49444580078125)"
      ]
     },
     "execution_count": 38,
     "metadata": {},
     "output_type": "execute_result"
    }
   ],
   "source": [
    "ellipse"
   ]
  }
 ],
 "metadata": {
  "kernelspec": {
   "display_name": "EvEye",
   "language": "python",
   "name": "python3"
  },
  "language_info": {
   "codemirror_mode": {
    "name": "ipython",
    "version": 3
   },
   "file_extension": ".py",
   "mimetype": "text/x-python",
   "name": "python",
   "nbconvert_exporter": "python",
   "pygments_lexer": "ipython3",
   "version": "3.10.14"
  }
 },
 "nbformat": 4,
 "nbformat_minor": 2
}
