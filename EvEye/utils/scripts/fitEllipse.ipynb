{
 "cells": [
  {
   "cell_type": "code",
   "execution_count": 1,
   "metadata": {},
   "outputs": [],
   "source": [
    "import cv2\n",
    "import numpy as np\n",
    "import matplotlib.pyplot as plt"
   ]
  },
  {
   "cell_type": "code",
   "execution_count": 2,
   "metadata": {},
   "outputs": [],
   "source": [
    "def cal_ellipse_area(ellipse):\n",
    "    (center, axes, angle) = ellipse\n",
    "    (MA, ma) = axes\n",
    "    area = np.pi * MA * ma / 4\n",
    "    return area\n",
    "\n",
    "\n",
    "def filter_ellipse(ellipses, min_area, max_area):\n",
    "    area = cal_ellipse_area(ellipses)\n",
    "    return min_area < area < max_area\n",
    "\n",
    "\n",
    "def ellipse_fit_quality(contour):\n",
    "    ellipse = cv2.fitEllipse(contour)\n",
    "\n",
    "    distances = []\n",
    "    for point in contour:\n",
    "        point = point[0]\n",
    "        ellipse_center = (int(ellipse[0][0]), int(ellipse[0][1]))\n",
    "        ellipse_axes = (int(ellipse[1][0] / 2), int(ellipse[1][1] / 2))\n",
    "        angle = ellipse[2]\n",
    "\n",
    "        cos_angle = np.cos(np.radians(angle))\n",
    "        sin_angle = np.sin(np.radians(angle))\n",
    "        x = point[0] - ellipse_center[0]\n",
    "        y = point[1] - ellipse_center[1]\n",
    "        x_rot = x * cos_angle + y * sin_angle\n",
    "        y_rot = -x * sin_angle + y * cos_angle\n",
    "\n",
    "        distance = (x_rot / ellipse_axes[0]) ** 2 + (y_rot / ellipse_axes[1]) ** 2\n",
    "        distances.append(distance)\n",
    "\n",
    "    mse = np.mean(distances)\n",
    "\n",
    "    return mse"
   ]
  },
  {
   "cell_type": "code",
   "execution_count": 3,
   "metadata": {},
   "outputs": [],
   "source": [
    "image_path = '/mnt/data2T/junyuan/eye-tracking/outputs/EventsFrames/user1_left_session_2_0_1/000200.png'\n",
    "image = cv2.imread(image_path)\n",
    "gray = cv2.cvtColor(image, cv2.COLOR_BGR2GRAY)\n",
    "edges = cv2.Canny(gray, 10, 200)\n",
    "contours, _ = cv2.findContours(edges, cv2.RETR_TREE, cv2.CHAIN_APPROX_SIMPLE)"
   ]
  },
  {
   "cell_type": "code",
   "execution_count": 4,
   "metadata": {},
   "outputs": [
    {
     "ename": "TypeError",
     "evalue": "cannot unpack non-iterable NoneType object",
     "output_type": "error",
     "traceback": [
      "\u001b[0;31m---------------------------------------------------------------------------\u001b[0m",
      "\u001b[0;31mTypeError\u001b[0m                                 Traceback (most recent call last)",
      "Cell \u001b[0;32mIn[4], line 14\u001b[0m\n\u001b[1;32m     11\u001b[0m                 best_fit_quality \u001b[38;5;241m=\u001b[39m fit_quality\n\u001b[1;32m     12\u001b[0m                 best_ellipse \u001b[38;5;241m=\u001b[39m ellipse\n\u001b[0;32m---> 14\u001b[0m \u001b[38;5;28mprint\u001b[39m(\u001b[38;5;124mf\u001b[39m\u001b[38;5;124m'\u001b[39m\u001b[38;5;124mBest area: \u001b[39m\u001b[38;5;132;01m{\u001b[39;00m\u001b[43mcal_ellipse_area\u001b[49m\u001b[43m(\u001b[49m\u001b[43mbest_ellipse\u001b[49m\u001b[43m)\u001b[49m\u001b[38;5;132;01m}\u001b[39;00m\u001b[38;5;124m'\u001b[39m)\n\u001b[1;32m     15\u001b[0m cv2\u001b[38;5;241m.\u001b[39mellipse(image, best_ellipse, (\u001b[38;5;241m0\u001b[39m, \u001b[38;5;241m255\u001b[39m, \u001b[38;5;241m0\u001b[39m), \u001b[38;5;241m2\u001b[39m)\n\u001b[1;32m     18\u001b[0m \u001b[38;5;66;03m# print(f'最佳拟合度: {best_fit_quality}')\u001b[39;00m\n\u001b[1;32m     19\u001b[0m \u001b[38;5;66;03m# cv2.ellipse(image, best_ellipse, (0, 255, 0), 2)\u001b[39;00m\n",
      "Cell \u001b[0;32mIn[2], line 2\u001b[0m, in \u001b[0;36mcal_ellipse_area\u001b[0;34m(ellipse)\u001b[0m\n\u001b[1;32m      1\u001b[0m \u001b[38;5;28;01mdef\u001b[39;00m \u001b[38;5;21mcal_ellipse_area\u001b[39m(ellipse):\n\u001b[0;32m----> 2\u001b[0m     (center, axes, angle) \u001b[38;5;241m=\u001b[39m ellipse\n\u001b[1;32m      3\u001b[0m     (MA, ma) \u001b[38;5;241m=\u001b[39m axes\n\u001b[1;32m      4\u001b[0m     area \u001b[38;5;241m=\u001b[39m np\u001b[38;5;241m.\u001b[39mpi \u001b[38;5;241m*\u001b[39m MA \u001b[38;5;241m*\u001b[39m ma \u001b[38;5;241m/\u001b[39m \u001b[38;5;241m4\u001b[39m\n",
      "\u001b[0;31mTypeError\u001b[0m: cannot unpack non-iterable NoneType object"
     ]
    }
   ],
   "source": [
    "min_area, max_area = 500, 2000\n",
    "best_ellipse = None\n",
    "best_fit_quality = float('inf')\n",
    "\n",
    "for contour in contours:\n",
    "    if len(contour) >= 10:  # fitEllipse需要至少5个点\n",
    "        ellipse = cv2.fitEllipse(contour)\n",
    "        if filter_ellipse(ellipse, min_area, max_area):\n",
    "            fit_quality = ellipse_fit_quality(contour)\n",
    "            if fit_quality < best_fit_quality:\n",
    "                best_fit_quality = fit_quality\n",
    "                best_ellipse = ellipse\n",
    "\n",
    "print(f'Best area: {cal_ellipse_area(best_ellipse)}')\n",
    "cv2.ellipse(image, best_ellipse, (0, 255, 0), 2)\n",
    "\n",
    "\n",
    "# print(f'最佳拟合度: {best_fit_quality}')\n",
    "# cv2.ellipse(image, best_ellipse, (0, 255, 0), 2)"
   ]
  },
  {
   "cell_type": "code",
   "execution_count": 5,
   "metadata": {},
   "outputs": [
    {
     "data": {
      "image/png": "[encoded data removed]",
      "text/plain": [
       "<Figure size 640x480 with 1 Axes>"
      ]
     },
     "metadata": {},
     "output_type": "display_data"
    },
    {
     "data": {
      "image/png": "[encoded data removed]",
      "text/plain": [
       "<Figure size 640x480 with 1 Axes>"
      ]
     },
     "metadata": {},
     "output_type": "display_data"
    },
    {
     "data": {
      "image/png": "[encoded data removed]",
      "text/plain": [
       "<Figure size 640x480 with 1 Axes>"
      ]
     },
     "metadata": {},
     "output_type": "display_data"
    }
   ],
   "source": [
    "# 显示灰度图像\n",
    "plt.imshow(gray, cmap='gray')\n",
    "plt.axis('off')  # 不显示坐标轴\n",
    "plt.show()\n",
    "\n",
    "# 显示边缘检测结果\n",
    "plt.imshow(edges, cmap='gray')\n",
    "plt.axis('off')  # 不显示坐标轴\n",
    "plt.show()\n",
    "\n",
    "# 显示绘制了椭圆的原始图像\n",
    "plt.imshow(cv2.cvtColor(image, cv2.COLOR_BGR2RGB))\n",
    "plt.axis('off')  # 不显示坐标轴\n",
    "plt.show()"
   ]
  }
 ],
 "metadata": {
  "kernelspec": {
   "display_name": "EvEye",
   "language": "python",
   "name": "python3"
  },
  "language_info": {
   "codemirror_mode": {
    "name": "ipython",
    "version": 3
   },
   "file_extension": ".py",
   "mimetype": "text/x-python",
   "name": "python",
   "nbconvert_exporter": "python",
   "pygments_lexer": "ipython3",
   "version": "3.10.14"
  }
 },
 "nbformat": 4,
 "nbformat_minor": 2
}
