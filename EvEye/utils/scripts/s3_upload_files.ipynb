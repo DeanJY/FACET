{
 "cells": [
  {
   "cell_type": "code",
   "execution_count": 1,
   "metadata": {},
   "outputs": [],
   "source": [
    "import os\n",
    "import boto3"
   ]
  },
  {
   "cell_type": "code",
   "execution_count": null,
   "metadata": {},
   "outputs": [],
   "source": [
    "import os\n",
    "from tqdm import tqdm\n",
    "\n",
    "\n",
    "def upload_files_in_folder(local_folder_path, s3_folder_path):\n",
    "    for root, dirs, files in os.walk(local_folder_path):\n",
    "        for file in tqdm(files, desc='Uploading files'):\n",
    "            local_file_path = os.path.join(root, file)\n",
    "            s3_file_path = s3_folder_path + os.path.relpath(\n",
    "                local_file_path, local_folder_path\n",
    "            )\n",
    "\n",
    "            s3_client.upload_file(local_file_path, bucket_name, s3_file_path)\n",
    "\n",
    "        for dir in dirs:\n",
    "            dir_path = os.path.join(root, dir)\n",
    "            s3_dir_path = (\n",
    "                s3_folder_path + os.path.relpath(dir_path, local_folder_path) + '/'\n",
    "            )\n",
    "\n",
    "            upload_files_in_folder(dir_path, s3_dir_path)\n",
    "\n",
    "\n",
    "s3_client = boto3.client('s3')\n",
    "bucket_name = 'minliu-roshamboo'\n",
    "local_folder_path = '/home/minliu/roshamboo'\n",
    "s3_folder_path = 'input_path/'\n",
    "\n",
    "upload_files_in_folder(local_folder_path, s3_folder_path)"
   ]
  },
  {
   "cell_type": "code",
   "execution_count": 2,
   "metadata": {},
   "outputs": [],
   "source": [
    "s3_client = boto3.client('s3')\n",
    "bucket_name = 'minliu-roshamboo'\n",
    "local_file_path = '/home/minliu/roshamboo'\n",
    "s3_file_path = \"CausalLinear-Down-Aug-Flip.zip\""
   ]
  },
  {
   "cell_type": "code",
   "execution_count": 3,
   "metadata": {},
   "outputs": [
    {
     "name": "stdout",
     "output_type": "stream",
     "text": [
      "文件上传成功\n"
     ]
    }
   ],
   "source": [
    "try:\n",
    "    s3_client.upload_file(local_file_path, bucket_name, s3_file_path)\n",
    "    print(\"文件上传成功\")\n",
    "except Exception as e:\n",
    "    print(\"上传文件时发生错误：\", e)"
   ]
  }
 ],
 "metadata": {
  "kernelspec": {
   "display_name": "EvEye",
   "language": "python",
   "name": "python3"
  },
  "language_info": {
   "codemirror_mode": {
    "name": "ipython",
    "version": 3
   },
   "file_extension": ".py",
   "mimetype": "text/x-python",
   "name": "python",
   "nbconvert_exporter": "python",
   "pygments_lexer": "ipython3",
   "version": "3.10.14"
  }
 },
 "nbformat": 4,
 "nbformat_minor": 2
}
