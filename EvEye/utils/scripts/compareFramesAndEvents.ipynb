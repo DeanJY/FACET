{
 "cells": [
  {
   "cell_type": "code",
   "execution_count": 1,
   "metadata": {},
   "outputs": [],
   "source": [
    "import cv2\n",
    "import natsort\n",
    "import os\n",
    "import numpy as np\n",
    "\n",
    "from pathlib import Path\n",
    "from tqdm import tqdm\n",
    "from EvEye.utils.scripts.load_config import load_config\n",
    "from EvEye.utils.tonic.slicers.SliceEventsAtIndices import slice_events_at_timepoints\n",
    "from EvEye.utils.tonic.functional.ToFrameStack import to_frame_stack_numpy\n",
    "from EvEye.utils.processor.TxtProcessor import TxtProcessor\n",
    "from EvEye.utils.visualization.visualization import save_image\n",
    "from EvEye.utils.visualization.visualization import visualize"
   ]
  },
  {
   "cell_type": "code",
   "execution_count": 2,
   "metadata": {},
   "outputs": [],
   "source": [
    "config_path = (\n",
    "    '/mnt/data2T/junyuan/eye-tracking/configs/TestTextDavisEyeDataset_TennSt.yaml'\n",
    ")\n",
    "config = load_config(config_path)\n",
    "txt_path = config['dataset']['txt_path']\n",
    "label_path = config['dataset']['label_path']\n",
    "rgb_path = config['test']['rgb_path']"
   ]
  },
  {
   "cell_type": "code",
   "execution_count": 3,
   "metadata": {},
   "outputs": [],
   "source": [
    "sensor_size = config[\"dataset\"][\"sensor_size\"]\n",
    "time_window = config[\"dataset\"][\"time_window\"]\n",
    "events_interpolation = config[\"dataset\"][\"events_interpolation\"]"
   ]
  },
  {
   "cell_type": "code",
   "execution_count": 4,
   "metadata": {},
   "outputs": [
    {
     "name": "stdout",
     "output_type": "stream",
     "text": [
      "1658473636003712 1658473636033098\n"
     ]
    }
   ],
   "source": [
    "events = TxtProcessor(txt_path).load_events_from_txt()\n",
    "labels = TxtProcessor(label_path).load_labels_from_txt()\n",
    "print(events['t'][0], labels['t'][0])\n",
    "events['t'] -= labels['t'][0] - time_window\n",
    "labels['t'] -= labels['t'][0] - time_window"
   ]
  },
  {
   "cell_type": "code",
   "execution_count": 5,
   "metadata": {},
   "outputs": [
    {
     "data": {
      "text/plain": [
       "(40000, 200360161)"
      ]
     },
     "execution_count": 5,
     "metadata": {},
     "output_type": "execute_result"
    }
   ],
   "source": [
    "start_time = labels['t'][0] - time_window\n",
    "end_time = labels['t'][-1]\n",
    "events_segment = slice_events_at_timepoints(events, start_time, end_time)\n",
    "labels['t'][0], labels['t'][-1]"
   ]
  },
  {
   "cell_type": "code",
   "execution_count": 6,
   "metadata": {},
   "outputs": [],
   "source": [
    "event_frames = to_frame_stack_numpy(\n",
    "    events_segment,\n",
    "    sensor_size,\n",
    "    labels.shape[0],\n",
    "    events_interpolation,\n",
    "    start_time,\n",
    "    end_time,\n",
    ")"
   ]
  },
  {
   "cell_type": "code",
   "execution_count": 7,
   "metadata": {},
   "outputs": [],
   "source": [
    "images_path = [image for image in os.listdir(rgb_path) if image.endswith('.png')]\n",
    "images = natsort.natsorted([os.path.join(rgb_path, image) for image in images_path])\n",
    "delta = len(images) - event_frames.shape[0]\n",
    "if delta > 0:\n",
    "    images = images[delta:]"
   ]
  },
  {
   "cell_type": "code",
   "execution_count": 8,
   "metadata": {},
   "outputs": [
    {
     "data": {
      "text/plain": [
       "('000002_1658473636033098.png', 10614, 40000)"
      ]
     },
     "execution_count": 8,
     "metadata": {},
     "output_type": "execute_result"
    }
   ],
   "source": [
    "Path(images[0]).name, events_segment['t'][0], labels['t'][0]"
   ]
  },
  {
   "cell_type": "code",
   "execution_count": 9,
   "metadata": {},
   "outputs": [
    {
     "name": "stderr",
     "output_type": "stream",
     "text": [
      "Saving images ...: 100%|██████████| 5009/5009 [00:59<00:00, 84.65it/s]\n"
     ]
    }
   ],
   "source": [
    "for index in tqdm(range(len(images)), desc=\"Saving images ...\"):\n",
    "    image = cv2.imread(images[index])\n",
    "    event_frame = visualize(event_frames[index])\n",
    "    center_x, center_y = labels['x'][index], labels['y'][index]\n",
    "    event_frame = cv2.circle(\n",
    "        event_frame, (int(center_x), int(center_y)), 3, (0, 255, 0), -1\n",
    "    )\n",
    "    image = cv2.circle(image, (int(center_x), int(center_y)), 3, (0, 255, 0), -1)\n",
    "\n",
    "    combined_image = np.concatenate([image, event_frame], axis=1)\n",
    "    conbined_image = cv2.cvtColor(combined_image, cv2.COLOR_BGR2RGB)\n",
    "    os.makedirs(f\"/mnt/data2T/junyuan/eye-tracking/FramesEvents\", exist_ok=True)\n",
    "    save_image(\n",
    "        combined_image, f\"/mnt/data2T/junyuan/eye-tracking/FramesEvents/{index:04}.png\"\n",
    "    )"
   ]
  }
 ],
 "metadata": {
  "kernelspec": {
   "display_name": "EvEye",
   "language": "python",
   "name": "python3"
  },
  "language_info": {
   "codemirror_mode": {
    "name": "ipython",
    "version": 3
   },
   "file_extension": ".py",
   "mimetype": "text/x-python",
   "name": "python",
   "nbconvert_exporter": "python",
   "pygments_lexer": "ipython3",
   "version": "3.10.14"
  }
 },
 "nbformat": 4,
 "nbformat_minor": 2
}
