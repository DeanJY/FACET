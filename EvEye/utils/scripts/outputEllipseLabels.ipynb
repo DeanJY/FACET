{
 "cells": [
  {
   "cell_type": "code",
   "execution_count": 1,
   "metadata": {},
   "outputs": [],
   "source": [
    "import cv2\n",
    "import numpy as np\n",
    "from pathlib import Path\n",
    "from EvEye.utils.visualization.visualization import *\n",
    "import matplotlib.pyplot as plt\n",
    "from natsort import natsorted\n",
    "from tqdm import tqdm"
   ]
  },
  {
   "cell_type": "code",
   "execution_count": 2,
   "metadata": {},
   "outputs": [],
   "source": [
    "data_root_path = Path(\"/mnt/data2T/junyuan/eye-tracking/outputs/EventMasks\")\n",
    "users_path = natsorted(list(data_root_path.glob(\"*\")))\n",
    "label_root_path = Path(\"/mnt/data2T/junyuan/eye-tracking/outputs/EllipseLabels\")"
   ]
  },
  {
   "cell_type": "code",
   "execution_count": 3,
   "metadata": {},
   "outputs": [],
   "source": [
    "def get_masks(root_path):\n",
    "    masks = []\n",
    "    for file in root_path.iterdir():\n",
    "        if file.suffix == \".png\":\n",
    "            if file.stem.split(\"_\")[-1] == \"mask\":\n",
    "                masks.append(file)\n",
    "    return natsorted(masks)\n",
    "\n",
    "\n",
    "def get_ellipse(mask):\n",
    "    raw_image = load_image(str(mask))[0]\n",
    "    gray_image = cv2.cvtColor(raw_image, cv2.COLOR_BGR2GRAY)\n",
    "    contours, _ = cv2.findContours(\n",
    "        gray_image, cv2.RETR_EXTERNAL, cv2.CHAIN_APPROX_SIMPLE\n",
    "    )\n",
    "    if len(contours) == 0:\n",
    "        return None\n",
    "    elif len(contours) == 1:\n",
    "        if len(contours[0]) < 5:\n",
    "            return None  # 如果轮廓点少于5个，返回None\n",
    "        ellipse = cv2.fitEllipse(contours[0])\n",
    "        return ellipse\n",
    "    else:\n",
    "        areas = [cv2.contourArea(c) for c in contours]\n",
    "        max_index = np.argmax(areas)\n",
    "        if len(contours[max_index]) < 5:\n",
    "            return None  # 如果最大的轮廓点少于5个，返回None\n",
    "        ellipse = cv2.fitEllipse(contours[max_index])\n",
    "        return ellipse"
   ]
  },
  {
   "cell_type": "code",
   "execution_count": 4,
   "metadata": {},
   "outputs": [
    {
     "name": "stderr",
     "output_type": "stream",
     "text": [
      "100%|██████████| 364/364 [04:03<00:00,  1.49it/s]\n"
     ]
    }
   ],
   "source": [
    "for user_path in tqdm(users_path):\n",
    "    file_name = user_path.stem\n",
    "    with open(label_root_path / f\"{file_name}.txt\", \"w\") as f:\n",
    "        masks = get_masks(user_path)\n",
    "        for mask in masks:\n",
    "            timestamp = mask.stem.split(\"_\")[1]\n",
    "            ellipse = get_ellipse(mask)\n",
    "            if ellipse is None:\n",
    "                f.write(f\"{timestamp} 0 0 0 0 0\\n\")\n",
    "            elif ellipse is not None:\n",
    "                f.write(\n",
    "                    f\"{timestamp} {ellipse[0][0]:.2f} {ellipse[0][1]:.2f} {ellipse[1][0]:.2f} {ellipse[1][1]:.2f} {ellipse[2]:.2f}\\n\"\n",
    "                )"
   ]
  }
 ],
 "metadata": {
  "kernelspec": {
   "display_name": "EvEye",
   "language": "python",
   "name": "python3"
  },
  "language_info": {
   "codemirror_mode": {
    "name": "ipython",
    "version": 3
   },
   "file_extension": ".py",
   "mimetype": "text/x-python",
   "name": "python",
   "nbconvert_exporter": "python",
   "pygments_lexer": "ipython3",
   "version": "3.10.14"
  }
 },
 "nbformat": 4,
 "nbformat_minor": 2
}
