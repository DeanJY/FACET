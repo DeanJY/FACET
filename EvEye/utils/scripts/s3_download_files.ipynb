{
 "cells": [
  {
   "cell_type": "code",
   "execution_count": null,
   "metadata": {},
   "outputs": [],
   "source": [
    "import os\n",
    "import boto3"
   ]
  },
  {
   "cell_type": "code",
   "execution_count": null,
   "metadata": {},
   "outputs": [],
   "source": [
    "s3_client = boto3.client('s3')\n",
    "bucket_name = 'junyuan1213'\n",
    "local_base_path = '/mnt/data2T/junyuan/eye-tracking'"
   ]
  },
  {
   "cell_type": "code",
   "execution_count": null,
   "metadata": {},
   "outputs": [],
   "source": [
    "response = s3_client.list_objects_v2(Bucket=bucket_name)"
   ]
  },
  {
   "cell_type": "code",
   "execution_count": null,
   "metadata": {},
   "outputs": [],
   "source": [
    "if 'Contents' in response:\n",
    "    for obj in response['Contents']:\n",
    "        # 获取对象的键\n",
    "        s3_key = obj['Key']\n",
    "        # 在本地路径中去掉前缀，并构建完整的本地文件路径\n",
    "        local_file_path = os.path.join(local_base_path, s3_key)\n",
    "\n",
    "        # 获取本地目录路径\n",
    "        local_directory = os.path.dirname(local_file_path)\n",
    "        # 如果本地目录不存在，则创建\n",
    "        if local_directory and not os.path.exists(local_directory):\n",
    "            os.makedirs(local_directory)\n",
    "\n",
    "        # 下载文件\n",
    "        s3_client.download_file(bucket_name, s3_key, local_file_path)\n",
    "        print(f\"已下载 {s3_key} 到 {local_file_path}\")\n",
    "else:\n",
    "    print(\"存储桶中没有内容。\")"
   ]
  }
 ],
 "metadata": {
  "kernelspec": {
   "display_name": "EvEye",
   "language": "python",
   "name": "python3"
  },
  "language_info": {
   "codemirror_mode": {
    "name": "ipython",
    "version": 3
   },
   "file_extension": ".py",
   "mimetype": "text/x-python",
   "name": "python",
   "nbconvert_exporter": "python",
   "pygments_lexer": "ipython3",
   "version": "3.10.14"
  },
  "orig_nbformat": 4
 },
 "nbformat": 4,
 "nbformat_minor": 2
}
