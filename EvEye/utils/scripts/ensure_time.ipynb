{
 "cells": [
  {
   "cell_type": "code",
   "execution_count": 1,
   "metadata": {},
   "outputs": [],
   "source": [
    "from pathlib import Path\n",
    "import numpy as np\n",
    "from natsort import natsorted\n",
    "from tqdm import tqdm\n",
    "\n",
    "from EvEye.utils.processor.TxtProcessor import TxtProcessor"
   ]
  },
  {
   "cell_type": "code",
   "execution_count": 2,
   "metadata": {},
   "outputs": [],
   "source": [
    "def save_labels_to_txt(labels, txt_path):\n",
    "    with open(txt_path, 'w') as f:\n",
    "        for i in range(len(labels['t'])):\n",
    "            # 将所有字段的值用空格连接起来，并写入文件\n",
    "            label_line = f\"{labels['t'][i]},{labels['x'][i]},{labels['y'][i]},{labels['close'][i]}\\n\"\n",
    "            f.write(label_line)"
   ]
  },
  {
   "cell_type": "code",
   "execution_count": 3,
   "metadata": {},
   "outputs": [],
   "source": [
    "def ensure_labels(root_path):\n",
    "    data_base_path = root_path / \"data\"\n",
    "    label_base_path = root_path / \"label\"\n",
    "    data_paths = natsorted(data_base_path.glob(\"*.txt\"))\n",
    "    label_paths = natsorted(label_base_path.glob(\"*.txt\"))\n",
    "    time_window = 40000\n",
    "    for index, (data_path, label_path) in enumerate(\n",
    "            tqdm(zip(data_paths, label_paths), total=len(data_paths))\n",
    "        ):\n",
    "        event = TxtProcessor(data_path).load_events_from_txt()\n",
    "        label = TxtProcessor(label_path).load_labels_from_txt()\n",
    "        index_label = 0\n",
    "        while index_label < len(label['t']):\n",
    "            start_time_first = max(event['t'][0], label['t'][index_label] - time_window)\n",
    "            end_time_first = label['t'][index_label]\n",
    "            if start_time_first >= end_time_first:\n",
    "                index_label += 1\n",
    "                print(f\"Wrong label: {label_path}\")\n",
    "                if index_label < len(label['t']):\n",
    "                    continue\n",
    "                else:\n",
    "                    raise ValueError(\"No event before the first label\")\n",
    "            else:\n",
    "                break\n",
    "        label = label[index_label:]\n",
    "        save_labels_to_txt(label, label_path)"
   ]
  },
  {
   "cell_type": "code",
   "execution_count": 4,
   "metadata": {},
   "outputs": [],
   "source": [
    "train_path = Path(\"/mnt/data2T/junyuan/eye-tracking/datasets/DavisEyeCenterDataset/train\")\n",
    "val_path = Path(\"/mnt/data2T/junyuan/eye-tracking/datasets/DavisEyeCenterDataset/val\")\n",
    "test_path = Path(\"/mnt/data2T/junyuan/eye-tracking/datasets/DavisEyeCenterDataset/test\")"
   ]
  },
  {
   "cell_type": "code",
   "execution_count": 5,
   "metadata": {},
   "outputs": [
    {
     "name": "stderr",
     "output_type": "stream",
     "text": [
      " 34%|███▍      | 99/289 [03:39<09:02,  2.85s/it]"
     ]
    },
    {
     "name": "stdout",
     "output_type": "stream",
     "text": [
      "Wrong label: /mnt/data2T/junyuan/eye-tracking/datasets/DavisEyeCenterDataset/train/label/user14_left_session_2_0_1_centers.txt\n"
     ]
    },
    {
     "name": "stderr",
     "output_type": "stream",
     "text": [
      " 35%|███▍      | 101/289 [03:45<08:35,  2.74s/it]"
     ]
    },
    {
     "name": "stdout",
     "output_type": "stream",
     "text": [
      "Wrong label: /mnt/data2T/junyuan/eye-tracking/datasets/DavisEyeCenterDataset/train/label/user14_right_session_1_0_1_centers.txt\n"
     ]
    },
    {
     "name": "stderr",
     "output_type": "stream",
     "text": [
      " 36%|███▋      | 105/289 [03:56<08:56,  2.91s/it]"
     ]
    },
    {
     "name": "stdout",
     "output_type": "stream",
     "text": [
      "Wrong label: /mnt/data2T/junyuan/eye-tracking/datasets/DavisEyeCenterDataset/train/label/user15_left_session_1_0_1_centers.txt\n"
     ]
    },
    {
     "name": "stderr",
     "output_type": "stream",
     "text": [
      " 38%|███▊      | 109/289 [04:07<07:57,  2.65s/it]"
     ]
    },
    {
     "name": "stdout",
     "output_type": "stream",
     "text": [
      "Wrong label: /mnt/data2T/junyuan/eye-tracking/datasets/DavisEyeCenterDataset/train/label/user15_right_session_1_0_1_centers.txt\n"
     ]
    },
    {
     "name": "stderr",
     "output_type": "stream",
     "text": [
      " 39%|███▉      | 112/289 [04:11<05:42,  1.93s/it]"
     ]
    },
    {
     "name": "stdout",
     "output_type": "stream",
     "text": [
      "Wrong label: /mnt/data2T/junyuan/eye-tracking/datasets/DavisEyeCenterDataset/train/label/user15_right_session_2_0_2_centers.txt\n"
     ]
    },
    {
     "name": "stderr",
     "output_type": "stream",
     "text": [
      " 40%|████      | 116/289 [04:23<07:17,  2.53s/it]"
     ]
    },
    {
     "name": "stdout",
     "output_type": "stream",
     "text": [
      "Wrong label: /mnt/data2T/junyuan/eye-tracking/datasets/DavisEyeCenterDataset/train/label/user16_left_session_2_0_2_centers.txt\n"
     ]
    },
    {
     "name": "stderr",
     "output_type": "stream",
     "text": [
      " 42%|████▏     | 121/289 [04:35<07:51,  2.81s/it]"
     ]
    },
    {
     "name": "stdout",
     "output_type": "stream",
     "text": [
      "Wrong label: /mnt/data2T/junyuan/eye-tracking/datasets/DavisEyeCenterDataset/train/label/user17_left_session_1_0_1_centers.txt\n"
     ]
    },
    {
     "name": "stderr",
     "output_type": "stream",
     "text": [
      " 43%|████▎     | 125/289 [04:49<09:01,  3.30s/it]"
     ]
    },
    {
     "name": "stdout",
     "output_type": "stream",
     "text": [
      "Wrong label: /mnt/data2T/junyuan/eye-tracking/datasets/DavisEyeCenterDataset/train/label/user17_right_session_1_0_1_centers.txt\n"
     ]
    },
    {
     "name": "stderr",
     "output_type": "stream",
     "text": [
      " 44%|████▎     | 126/289 [04:50<07:35,  2.80s/it]"
     ]
    },
    {
     "name": "stdout",
     "output_type": "stream",
     "text": [
      "Wrong label: /mnt/data2T/junyuan/eye-tracking/datasets/DavisEyeCenterDataset/train/label/user17_right_session_1_0_2_centers.txt\n"
     ]
    },
    {
     "name": "stderr",
     "output_type": "stream",
     "text": [
      " 44%|████▍     | 128/289 [04:56<07:27,  2.78s/it]"
     ]
    },
    {
     "name": "stdout",
     "output_type": "stream",
     "text": [
      "Wrong label: /mnt/data2T/junyuan/eye-tracking/datasets/DavisEyeCenterDataset/train/label/user17_right_session_2_0_2_centers.txt\n"
     ]
    },
    {
     "name": "stderr",
     "output_type": "stream",
     "text": [
      " 46%|████▋     | 134/289 [05:08<05:05,  1.97s/it]"
     ]
    },
    {
     "name": "stdout",
     "output_type": "stream",
     "text": [
      "Wrong label: /mnt/data2T/junyuan/eye-tracking/datasets/DavisEyeCenterDataset/train/label/user18_right_session_1_0_2_centers.txt\n"
     ]
    },
    {
     "name": "stderr",
     "output_type": "stream",
     "text": [
      " 48%|████▊     | 140/289 [05:21<05:29,  2.21s/it]"
     ]
    },
    {
     "name": "stdout",
     "output_type": "stream",
     "text": [
      "Wrong label: /mnt/data2T/junyuan/eye-tracking/datasets/DavisEyeCenterDataset/train/label/user19_left_session_2_0_2_centers.txt\n"
     ]
    },
    {
     "name": "stderr",
     "output_type": "stream",
     "text": [
      " 49%|████▉     | 142/289 [05:25<04:28,  1.83s/it]"
     ]
    },
    {
     "name": "stdout",
     "output_type": "stream",
     "text": [
      "Wrong label: /mnt/data2T/junyuan/eye-tracking/datasets/DavisEyeCenterDataset/train/label/user19_right_session_1_0_2_centers.txt\n"
     ]
    },
    {
     "name": "stderr",
     "output_type": "stream",
     "text": [
      " 49%|████▉     | 143/289 [05:27<04:42,  1.93s/it]"
     ]
    },
    {
     "name": "stdout",
     "output_type": "stream",
     "text": [
      "Wrong label: /mnt/data2T/junyuan/eye-tracking/datasets/DavisEyeCenterDataset/train/label/user19_right_session_2_0_1_centers.txt\n"
     ]
    },
    {
     "name": "stderr",
     "output_type": "stream",
     "text": [
      " 51%|█████     | 148/289 [05:42<06:50,  2.91s/it]"
     ]
    },
    {
     "name": "stdout",
     "output_type": "stream",
     "text": [
      "Wrong label: /mnt/data2T/junyuan/eye-tracking/datasets/DavisEyeCenterDataset/train/label/user20_left_session_2_0_2_centers.txt\n"
     ]
    },
    {
     "name": "stderr",
     "output_type": "stream",
     "text": [
      " 52%|█████▏    | 149/289 [05:46<07:44,  3.32s/it]"
     ]
    },
    {
     "name": "stdout",
     "output_type": "stream",
     "text": [
      "Wrong label: /mnt/data2T/junyuan/eye-tracking/datasets/DavisEyeCenterDataset/train/label/user20_right_session_1_0_1_centers.txt\n"
     ]
    },
    {
     "name": "stderr",
     "output_type": "stream",
     "text": [
      " 52%|█████▏    | 151/289 [05:52<07:41,  3.34s/it]"
     ]
    },
    {
     "name": "stdout",
     "output_type": "stream",
     "text": [
      "Wrong label: /mnt/data2T/junyuan/eye-tracking/datasets/DavisEyeCenterDataset/train/label/user20_right_session_2_0_1_centers.txt\n"
     ]
    },
    {
     "name": "stderr",
     "output_type": "stream",
     "text": [
      " 53%|█████▎    | 152/289 [05:54<06:34,  2.88s/it]"
     ]
    },
    {
     "name": "stdout",
     "output_type": "stream",
     "text": [
      "Wrong label: /mnt/data2T/junyuan/eye-tracking/datasets/DavisEyeCenterDataset/train/label/user20_right_session_2_0_2_centers.txt\n"
     ]
    },
    {
     "name": "stderr",
     "output_type": "stream",
     "text": [
      " 53%|█████▎    | 154/289 [06:00<06:07,  2.72s/it]"
     ]
    },
    {
     "name": "stdout",
     "output_type": "stream",
     "text": [
      "Wrong label: /mnt/data2T/junyuan/eye-tracking/datasets/DavisEyeCenterDataset/train/label/user21_left_session_1_0_2_centers.txt\n"
     ]
    },
    {
     "name": "stderr",
     "output_type": "stream",
     "text": [
      " 54%|█████▎    | 155/289 [06:03<06:16,  2.81s/it]"
     ]
    },
    {
     "name": "stdout",
     "output_type": "stream",
     "text": [
      "Wrong label: /mnt/data2T/junyuan/eye-tracking/datasets/DavisEyeCenterDataset/train/label/user21_left_session_2_0_1_centers.txt\n"
     ]
    },
    {
     "name": "stderr",
     "output_type": "stream",
     "text": [
      " 55%|█████▍    | 158/289 [06:07<04:09,  1.91s/it]"
     ]
    },
    {
     "name": "stdout",
     "output_type": "stream",
     "text": [
      "Wrong label: /mnt/data2T/junyuan/eye-tracking/datasets/DavisEyeCenterDataset/train/label/user21_right_session_1_0_2_centers.txt\n"
     ]
    },
    {
     "name": "stderr",
     "output_type": "stream",
     "text": [
      " 55%|█████▌    | 159/289 [06:09<03:53,  1.80s/it]"
     ]
    },
    {
     "name": "stdout",
     "output_type": "stream",
     "text": [
      "Wrong label: /mnt/data2T/junyuan/eye-tracking/datasets/DavisEyeCenterDataset/train/label/user21_right_session_2_0_1_centers.txt\n"
     ]
    },
    {
     "name": "stderr",
     "output_type": "stream",
     "text": [
      " 55%|█████▌    | 160/289 [06:10<03:20,  1.55s/it]"
     ]
    },
    {
     "name": "stdout",
     "output_type": "stream",
     "text": [
      "Wrong label: /mnt/data2T/junyuan/eye-tracking/datasets/DavisEyeCenterDataset/train/label/user21_right_session_2_0_2_centers.txt\n"
     ]
    },
    {
     "name": "stderr",
     "output_type": "stream",
     "text": [
      " 56%|█████▋    | 163/289 [06:18<04:48,  2.29s/it]"
     ]
    },
    {
     "name": "stdout",
     "output_type": "stream",
     "text": [
      "Wrong label: /mnt/data2T/junyuan/eye-tracking/datasets/DavisEyeCenterDataset/train/label/user22_left_session_2_0_1_centers.txt\n"
     ]
    },
    {
     "name": "stderr",
     "output_type": "stream",
     "text": [
      " 58%|█████▊    | 168/289 [06:24<02:44,  1.36s/it]"
     ]
    },
    {
     "name": "stdout",
     "output_type": "stream",
     "text": [
      "Wrong label: /mnt/data2T/junyuan/eye-tracking/datasets/DavisEyeCenterDataset/train/label/user22_right_session_2_0_2_centers.txt\n"
     ]
    },
    {
     "name": "stderr",
     "output_type": "stream",
     "text": [
      " 58%|█████▊    | 169/289 [06:27<03:35,  1.80s/it]"
     ]
    },
    {
     "name": "stdout",
     "output_type": "stream",
     "text": [
      "Wrong label: /mnt/data2T/junyuan/eye-tracking/datasets/DavisEyeCenterDataset/train/label/user23_left_session_1_0_1_centers.txt\n"
     ]
    },
    {
     "name": "stderr",
     "output_type": "stream",
     "text": [
      " 59%|█████▉    | 170/289 [06:29<03:29,  1.76s/it]"
     ]
    },
    {
     "name": "stdout",
     "output_type": "stream",
     "text": [
      "Wrong label: /mnt/data2T/junyuan/eye-tracking/datasets/DavisEyeCenterDataset/train/label/user23_left_session_1_0_2_centers.txt\n"
     ]
    },
    {
     "name": "stderr",
     "output_type": "stream",
     "text": [
      " 62%|██████▏   | 180/289 [06:50<04:29,  2.48s/it]"
     ]
    },
    {
     "name": "stdout",
     "output_type": "stream",
     "text": [
      "Wrong label: /mnt/data2T/junyuan/eye-tracking/datasets/DavisEyeCenterDataset/train/label/user24_left_session_2_0_2_centers.txt\n"
     ]
    },
    {
     "name": "stderr",
     "output_type": "stream",
     "text": [
      " 66%|██████▋   | 192/289 [07:11<02:13,  1.37s/it]"
     ]
    },
    {
     "name": "stdout",
     "output_type": "stream",
     "text": [
      "Wrong label: /mnt/data2T/junyuan/eye-tracking/datasets/DavisEyeCenterDataset/train/label/user25_right_session_2_0_2_centers.txt\n"
     ]
    },
    {
     "name": "stderr",
     "output_type": "stream",
     "text": [
      " 67%|██████▋   | 195/289 [07:21<04:22,  2.80s/it]"
     ]
    },
    {
     "name": "stdout",
     "output_type": "stream",
     "text": [
      "Wrong label: /mnt/data2T/junyuan/eye-tracking/datasets/DavisEyeCenterDataset/train/label/user26_left_session_2_0_1_centers.txt\n"
     ]
    },
    {
     "name": "stderr",
     "output_type": "stream",
     "text": [
      " 68%|██████▊   | 196/289 [07:23<03:57,  2.56s/it]"
     ]
    },
    {
     "name": "stdout",
     "output_type": "stream",
     "text": [
      "Wrong label: /mnt/data2T/junyuan/eye-tracking/datasets/DavisEyeCenterDataset/train/label/user26_left_session_2_0_2_centers.txt\n"
     ]
    },
    {
     "name": "stderr",
     "output_type": "stream",
     "text": [
      " 69%|██████▉   | 199/289 [07:30<03:39,  2.43s/it]"
     ]
    },
    {
     "name": "stdout",
     "output_type": "stream",
     "text": [
      "Wrong label: /mnt/data2T/junyuan/eye-tracking/datasets/DavisEyeCenterDataset/train/label/user26_right_session_2_0_1_centers.txt\n"
     ]
    },
    {
     "name": "stderr",
     "output_type": "stream",
     "text": [
      " 70%|██████▉   | 201/289 [07:36<03:58,  2.72s/it]"
     ]
    },
    {
     "name": "stdout",
     "output_type": "stream",
     "text": [
      "Wrong label: /mnt/data2T/junyuan/eye-tracking/datasets/DavisEyeCenterDataset/train/label/user27_left_session_1_0_1_centers.txt\n"
     ]
    },
    {
     "name": "stderr",
     "output_type": "stream",
     "text": [
      " 70%|██████▉   | 202/289 [07:38<03:46,  2.60s/it]"
     ]
    },
    {
     "name": "stdout",
     "output_type": "stream",
     "text": [
      "Wrong label: /mnt/data2T/junyuan/eye-tracking/datasets/DavisEyeCenterDataset/train/label/user27_left_session_1_0_2_centers.txt\n"
     ]
    },
    {
     "name": "stderr",
     "output_type": "stream",
     "text": [
      " 71%|███████▏  | 206/289 [07:48<03:03,  2.21s/it]"
     ]
    },
    {
     "name": "stdout",
     "output_type": "stream",
     "text": [
      "Wrong label: /mnt/data2T/junyuan/eye-tracking/datasets/DavisEyeCenterDataset/train/label/user27_right_session_1_0_2_centers.txt\n"
     ]
    },
    {
     "name": "stderr",
     "output_type": "stream",
     "text": [
      " 72%|███████▏  | 208/289 [07:51<02:32,  1.88s/it]"
     ]
    },
    {
     "name": "stdout",
     "output_type": "stream",
     "text": [
      "Wrong label: /mnt/data2T/junyuan/eye-tracking/datasets/DavisEyeCenterDataset/train/label/user27_right_session_2_0_2_centers.txt\n"
     ]
    },
    {
     "name": "stderr",
     "output_type": "stream",
     "text": [
      " 74%|███████▍  | 214/289 [08:05<02:20,  1.87s/it]"
     ]
    },
    {
     "name": "stdout",
     "output_type": "stream",
     "text": [
      "Wrong label: /mnt/data2T/junyuan/eye-tracking/datasets/DavisEyeCenterDataset/train/label/user28_right_session_1_0_2_centers.txt\n"
     ]
    },
    {
     "name": "stderr",
     "output_type": "stream",
     "text": [
      " 75%|███████▍  | 216/289 [08:08<01:59,  1.64s/it]"
     ]
    },
    {
     "name": "stdout",
     "output_type": "stream",
     "text": [
      "Wrong label: /mnt/data2T/junyuan/eye-tracking/datasets/DavisEyeCenterDataset/train/label/user28_right_session_2_0_2_centers.txt\n"
     ]
    },
    {
     "name": "stderr",
     "output_type": "stream",
     "text": [
      " 77%|███████▋  | 222/289 [08:28<03:10,  2.84s/it]"
     ]
    },
    {
     "name": "stdout",
     "output_type": "stream",
     "text": [
      "Wrong label: /mnt/data2T/junyuan/eye-tracking/datasets/DavisEyeCenterDataset/train/label/user29_right_session_1_0_2_centers.txt\n"
     ]
    },
    {
     "name": "stderr",
     "output_type": "stream",
     "text": [
      " 78%|███████▊  | 226/289 [08:40<02:53,  2.76s/it]"
     ]
    },
    {
     "name": "stdout",
     "output_type": "stream",
     "text": [
      "Wrong label: /mnt/data2T/junyuan/eye-tracking/datasets/DavisEyeCenterDataset/train/label/user30_left_session_1_0_2_centers.txt\n"
     ]
    },
    {
     "name": "stderr",
     "output_type": "stream",
     "text": [
      " 79%|███████▉  | 229/289 [08:48<02:36,  2.60s/it]"
     ]
    },
    {
     "name": "stdout",
     "output_type": "stream",
     "text": [
      "Wrong label: /mnt/data2T/junyuan/eye-tracking/datasets/DavisEyeCenterDataset/train/label/user30_right_session_1_0_1_centers.txt\n"
     ]
    },
    {
     "name": "stderr",
     "output_type": "stream",
     "text": [
      " 80%|███████▉  | 230/289 [08:49<02:09,  2.19s/it]"
     ]
    },
    {
     "name": "stdout",
     "output_type": "stream",
     "text": [
      "Wrong label: /mnt/data2T/junyuan/eye-tracking/datasets/DavisEyeCenterDataset/train/label/user30_right_session_1_0_2_centers.txt\n"
     ]
    },
    {
     "name": "stderr",
     "output_type": "stream",
     "text": [
      " 80%|████████  | 232/289 [08:53<01:49,  1.92s/it]"
     ]
    },
    {
     "name": "stdout",
     "output_type": "stream",
     "text": [
      "Wrong label: /mnt/data2T/junyuan/eye-tracking/datasets/DavisEyeCenterDataset/train/label/user30_right_session_2_0_2_centers.txt\n"
     ]
    },
    {
     "name": "stderr",
     "output_type": "stream",
     "text": [
      " 81%|████████  | 234/289 [08:59<02:18,  2.52s/it]"
     ]
    },
    {
     "name": "stdout",
     "output_type": "stream",
     "text": [
      "Wrong label: /mnt/data2T/junyuan/eye-tracking/datasets/DavisEyeCenterDataset/train/label/user31_left_session_1_0_2_centers.txt\n"
     ]
    },
    {
     "name": "stderr",
     "output_type": "stream",
     "text": [
      " 83%|████████▎ | 239/289 [09:12<01:58,  2.37s/it]"
     ]
    },
    {
     "name": "stdout",
     "output_type": "stream",
     "text": [
      "Wrong label: /mnt/data2T/junyuan/eye-tracking/datasets/DavisEyeCenterDataset/train/label/user31_right_session_2_0_1_centers.txt\n"
     ]
    },
    {
     "name": "stderr",
     "output_type": "stream",
     "text": [
      " 83%|████████▎ | 240/289 [09:14<01:41,  2.07s/it]"
     ]
    },
    {
     "name": "stdout",
     "output_type": "stream",
     "text": [
      "Wrong label: /mnt/data2T/junyuan/eye-tracking/datasets/DavisEyeCenterDataset/train/label/user31_right_session_2_0_2_centers.txt\n"
     ]
    },
    {
     "name": "stderr",
     "output_type": "stream",
     "text": [
      " 83%|████████▎ | 241/289 [09:18<02:03,  2.58s/it]"
     ]
    },
    {
     "name": "stdout",
     "output_type": "stream",
     "text": [
      "Wrong label: /mnt/data2T/junyuan/eye-tracking/datasets/DavisEyeCenterDataset/train/label/user32_left_session_1_0_1_centers.txt\n"
     ]
    },
    {
     "name": "stderr",
     "output_type": "stream",
     "text": [
      " 84%|████████▍ | 244/289 [09:27<02:10,  2.90s/it]"
     ]
    },
    {
     "name": "stdout",
     "output_type": "stream",
     "text": [
      "Wrong label: /mnt/data2T/junyuan/eye-tracking/datasets/DavisEyeCenterDataset/train/label/user32_left_session_2_0_2_centers.txt\n"
     ]
    },
    {
     "name": "stderr",
     "output_type": "stream",
     "text": [
      " 85%|████████▍ | 245/289 [09:29<01:57,  2.68s/it]"
     ]
    },
    {
     "name": "stdout",
     "output_type": "stream",
     "text": [
      "Wrong label: /mnt/data2T/junyuan/eye-tracking/datasets/DavisEyeCenterDataset/train/label/user32_right_session_1_0_1_centers.txt\n"
     ]
    },
    {
     "name": "stderr",
     "output_type": "stream",
     "text": [
      " 85%|████████▌ | 247/289 [09:33<01:33,  2.23s/it]"
     ]
    },
    {
     "name": "stdout",
     "output_type": "stream",
     "text": [
      "Wrong label: /mnt/data2T/junyuan/eye-tracking/datasets/DavisEyeCenterDataset/train/label/user32_right_session_2_0_1_centers.txt\n"
     ]
    },
    {
     "name": "stderr",
     "output_type": "stream",
     "text": [
      " 86%|████████▌ | 249/289 [09:37<01:37,  2.43s/it]"
     ]
    },
    {
     "name": "stdout",
     "output_type": "stream",
     "text": [
      "Wrong label: /mnt/data2T/junyuan/eye-tracking/datasets/DavisEyeCenterDataset/train/label/user33_left_session_1_0_1_centers.txt\n"
     ]
    },
    {
     "name": "stderr",
     "output_type": "stream",
     "text": [
      " 88%|████████▊ | 254/289 [09:48<01:08,  1.96s/it]"
     ]
    },
    {
     "name": "stdout",
     "output_type": "stream",
     "text": [
      "Wrong label: /mnt/data2T/junyuan/eye-tracking/datasets/DavisEyeCenterDataset/train/label/user33_right_session_1_0_2_centers.txt\n"
     ]
    },
    {
     "name": "stderr",
     "output_type": "stream",
     "text": [
      " 88%|████████▊ | 255/289 [09:50<01:07,  1.98s/it]"
     ]
    },
    {
     "name": "stdout",
     "output_type": "stream",
     "text": [
      "Wrong label: /mnt/data2T/junyuan/eye-tracking/datasets/DavisEyeCenterDataset/train/label/user33_right_session_2_0_1_centers.txt\n"
     ]
    },
    {
     "name": "stderr",
     "output_type": "stream",
     "text": [
      " 90%|█████████ | 261/289 [10:05<01:11,  2.54s/it]"
     ]
    },
    {
     "name": "stdout",
     "output_type": "stream",
     "text": [
      "Wrong label: /mnt/data2T/junyuan/eye-tracking/datasets/DavisEyeCenterDataset/train/label/user34_right_session_1_0_1_centers.txt\n"
     ]
    },
    {
     "name": "stderr",
     "output_type": "stream",
     "text": [
      " 92%|█████████▏| 267/289 [10:20<01:00,  2.73s/it]"
     ]
    },
    {
     "name": "stdout",
     "output_type": "stream",
     "text": [
      "Wrong label: /mnt/data2T/junyuan/eye-tracking/datasets/DavisEyeCenterDataset/train/label/user35_left_session_2_0_1_centers.txt\n"
     ]
    },
    {
     "name": "stderr",
     "output_type": "stream",
     "text": [
      " 93%|█████████▎| 270/289 [10:25<00:37,  1.97s/it]"
     ]
    },
    {
     "name": "stdout",
     "output_type": "stream",
     "text": [
      "Wrong label: /mnt/data2T/junyuan/eye-tracking/datasets/DavisEyeCenterDataset/train/label/user35_right_session_1_0_2_centers.txt\n"
     ]
    },
    {
     "name": "stderr",
     "output_type": "stream",
     "text": [
      " 94%|█████████▍| 272/289 [10:28<00:28,  1.69s/it]"
     ]
    },
    {
     "name": "stdout",
     "output_type": "stream",
     "text": [
      "Wrong label: /mnt/data2T/junyuan/eye-tracking/datasets/DavisEyeCenterDataset/train/label/user35_right_session_2_0_2_centers.txt\n"
     ]
    },
    {
     "name": "stderr",
     "output_type": "stream",
     "text": [
      " 95%|█████████▍| 274/289 [10:33<00:30,  2.02s/it]"
     ]
    },
    {
     "name": "stdout",
     "output_type": "stream",
     "text": [
      "Wrong label: /mnt/data2T/junyuan/eye-tracking/datasets/DavisEyeCenterDataset/train/label/user36_left_session_1_0_2_centers.txt\n"
     ]
    },
    {
     "name": "stderr",
     "output_type": "stream",
     "text": [
      " 95%|█████████▌| 275/289 [10:36<00:32,  2.34s/it]"
     ]
    },
    {
     "name": "stdout",
     "output_type": "stream",
     "text": [
      "Wrong label: /mnt/data2T/junyuan/eye-tracking/datasets/DavisEyeCenterDataset/train/label/user36_left_session_2_0_1_centers.txt\n"
     ]
    },
    {
     "name": "stderr",
     "output_type": "stream",
     "text": [
      " 96%|█████████▌| 278/289 [10:43<00:25,  2.34s/it]"
     ]
    },
    {
     "name": "stdout",
     "output_type": "stream",
     "text": [
      "Wrong label: /mnt/data2T/junyuan/eye-tracking/datasets/DavisEyeCenterDataset/train/label/user37_left_session_1_0_1_centers.txt\n"
     ]
    },
    {
     "name": "stderr",
     "output_type": "stream",
     "text": [
      " 97%|█████████▋| 281/289 [10:49<00:17,  2.17s/it]"
     ]
    },
    {
     "name": "stdout",
     "output_type": "stream",
     "text": [
      "Wrong label: /mnt/data2T/junyuan/eye-tracking/datasets/DavisEyeCenterDataset/train/label/user37_left_session_2_0_2_centers.txt\n"
     ]
    },
    {
     "name": "stderr",
     "output_type": "stream",
     "text": [
      " 98%|█████████▊| 284/289 [10:54<00:08,  1.69s/it]"
     ]
    },
    {
     "name": "stdout",
     "output_type": "stream",
     "text": [
      "Wrong label: /mnt/data2T/junyuan/eye-tracking/datasets/DavisEyeCenterDataset/train/label/user37_right_session_2_0_1_centers.txt\n"
     ]
    },
    {
     "name": "stderr",
     "output_type": "stream",
     "text": [
      "100%|█████████▉| 288/289 [11:03<00:02,  2.45s/it]"
     ]
    },
    {
     "name": "stdout",
     "output_type": "stream",
     "text": [
      "Wrong label: /mnt/data2T/junyuan/eye-tracking/datasets/DavisEyeCenterDataset/train/label/user38_left_session_2_0_1_centers.txt\n"
     ]
    },
    {
     "name": "stderr",
     "output_type": "stream",
     "text": [
      "100%|██████████| 289/289 [11:05<00:00,  2.30s/it]\n",
      "  3%|▎         | 1/36 [00:02<01:16,  2.19s/it]"
     ]
    },
    {
     "name": "stdout",
     "output_type": "stream",
     "text": [
      "Wrong label: /mnt/data2T/junyuan/eye-tracking/datasets/DavisEyeCenterDataset/val/label/user38_right_session_1_0_1_centers.txt\n"
     ]
    },
    {
     "name": "stderr",
     "output_type": "stream",
     "text": [
      "  6%|▌         | 2/36 [00:03<00:53,  1.57s/it]"
     ]
    },
    {
     "name": "stdout",
     "output_type": "stream",
     "text": [
      "Wrong label: /mnt/data2T/junyuan/eye-tracking/datasets/DavisEyeCenterDataset/val/label/user38_right_session_1_0_2_centers.txt\n"
     ]
    },
    {
     "name": "stderr",
     "output_type": "stream",
     "text": [
      " 14%|█▍        | 5/36 [00:10<01:08,  2.19s/it]"
     ]
    },
    {
     "name": "stdout",
     "output_type": "stream",
     "text": [
      "Wrong label: /mnt/data2T/junyuan/eye-tracking/datasets/DavisEyeCenterDataset/val/label/user39_left_session_1_0_1_centers.txt\n"
     ]
    },
    {
     "name": "stderr",
     "output_type": "stream",
     "text": [
      " 17%|█▋        | 6/36 [00:11<01:00,  2.03s/it]"
     ]
    },
    {
     "name": "stdout",
     "output_type": "stream",
     "text": [
      "Wrong label: /mnt/data2T/junyuan/eye-tracking/datasets/DavisEyeCenterDataset/val/label/user39_left_session_1_0_2_centers.txt\n"
     ]
    },
    {
     "name": "stderr",
     "output_type": "stream",
     "text": [
      " 19%|█▉        | 7/36 [00:14<01:05,  2.26s/it]"
     ]
    },
    {
     "name": "stdout",
     "output_type": "stream",
     "text": [
      "Wrong label: /mnt/data2T/junyuan/eye-tracking/datasets/DavisEyeCenterDataset/val/label/user39_left_session_2_0_1_centers.txt\n"
     ]
    },
    {
     "name": "stderr",
     "output_type": "stream",
     "text": [
      " 42%|████▏     | 15/36 [00:29<00:47,  2.25s/it]"
     ]
    },
    {
     "name": "stdout",
     "output_type": "stream",
     "text": [
      "Wrong label: /mnt/data2T/junyuan/eye-tracking/datasets/DavisEyeCenterDataset/val/label/user40_left_session_2_0_1_centers.txt\n"
     ]
    },
    {
     "name": "stderr",
     "output_type": "stream",
     "text": [
      " 58%|█████▊    | 21/36 [00:40<00:30,  2.03s/it]"
     ]
    },
    {
     "name": "stdout",
     "output_type": "stream",
     "text": [
      "Wrong label: /mnt/data2T/junyuan/eye-tracking/datasets/DavisEyeCenterDataset/val/label/user41_left_session_1_0_1_centers.txt\n"
     ]
    },
    {
     "name": "stderr",
     "output_type": "stream",
     "text": [
      " 64%|██████▍   | 23/36 [00:45<00:30,  2.35s/it]"
     ]
    },
    {
     "name": "stdout",
     "output_type": "stream",
     "text": [
      "Wrong label: /mnt/data2T/junyuan/eye-tracking/datasets/DavisEyeCenterDataset/val/label/user41_left_session_2_0_1_centers.txt\n"
     ]
    },
    {
     "name": "stderr",
     "output_type": "stream",
     "text": [
      " 75%|███████▌  | 27/36 [00:52<00:17,  1.95s/it]"
     ]
    },
    {
     "name": "stdout",
     "output_type": "stream",
     "text": [
      "Wrong label: /mnt/data2T/junyuan/eye-tracking/datasets/DavisEyeCenterDataset/val/label/user41_right_session_2_0_1_centers.txt\n"
     ]
    },
    {
     "name": "stderr",
     "output_type": "stream",
     "text": [
      " 81%|████████  | 29/36 [00:59<00:19,  2.84s/it]"
     ]
    },
    {
     "name": "stdout",
     "output_type": "stream",
     "text": [
      "Wrong label: /mnt/data2T/junyuan/eye-tracking/datasets/DavisEyeCenterDataset/val/label/user42_left_session_1_0_1_centers.txt\n"
     ]
    },
    {
     "name": "stderr",
     "output_type": "stream",
     "text": [
      " 94%|█████████▍| 34/36 [01:15<00:05,  2.90s/it]"
     ]
    },
    {
     "name": "stdout",
     "output_type": "stream",
     "text": [
      "Wrong label: /mnt/data2T/junyuan/eye-tracking/datasets/DavisEyeCenterDataset/val/label/user42_right_session_1_0_2_centers.txt\n"
     ]
    },
    {
     "name": "stderr",
     "output_type": "stream",
     "text": [
      "100%|██████████| 36/36 [01:20<00:00,  2.24s/it]\n"
     ]
    },
    {
     "name": "stdout",
     "output_type": "stream",
     "text": [
      "Wrong label: /mnt/data2T/junyuan/eye-tracking/datasets/DavisEyeCenterDataset/val/label/user42_right_session_2_0_2_centers.txt\n"
     ]
    },
    {
     "name": "stderr",
     "output_type": "stream",
     "text": [
      "  3%|▎         | 1/37 [00:02<01:44,  2.89s/it]"
     ]
    },
    {
     "name": "stdout",
     "output_type": "stream",
     "text": [
      "Wrong label: /mnt/data2T/junyuan/eye-tracking/datasets/DavisEyeCenterDataset/test/label/user43_left_session_1_0_1_centers.txt\n"
     ]
    },
    {
     "name": "stderr",
     "output_type": "stream",
     "text": [
      " 14%|█▎        | 5/37 [00:11<01:07,  2.10s/it]"
     ]
    },
    {
     "name": "stdout",
     "output_type": "stream",
     "text": [
      "Wrong label: /mnt/data2T/junyuan/eye-tracking/datasets/DavisEyeCenterDataset/test/label/user43_right_session_1_0_1_centers.txt\n"
     ]
    },
    {
     "name": "stderr",
     "output_type": "stream",
     "text": [
      " 16%|█▌        | 6/37 [00:12<00:54,  1.76s/it]"
     ]
    },
    {
     "name": "stdout",
     "output_type": "stream",
     "text": [
      "Wrong label: /mnt/data2T/junyuan/eye-tracking/datasets/DavisEyeCenterDataset/test/label/user43_right_session_1_0_2_centers.txt\n"
     ]
    },
    {
     "name": "stderr",
     "output_type": "stream",
     "text": [
      " 22%|██▏       | 8/37 [00:14<00:43,  1.49s/it]"
     ]
    },
    {
     "name": "stdout",
     "output_type": "stream",
     "text": [
      "Wrong label: /mnt/data2T/junyuan/eye-tracking/datasets/DavisEyeCenterDataset/test/label/user43_right_session_2_0_2_centers.txt\n"
     ]
    },
    {
     "name": "stderr",
     "output_type": "stream",
     "text": [
      " 27%|██▋       | 10/37 [00:20<00:54,  2.03s/it]"
     ]
    },
    {
     "name": "stdout",
     "output_type": "stream",
     "text": [
      "Wrong label: /mnt/data2T/junyuan/eye-tracking/datasets/DavisEyeCenterDataset/test/label/user44_left_session_1_0_2_centers.txt\n"
     ]
    },
    {
     "name": "stderr",
     "output_type": "stream",
     "text": [
      " 30%|██▉       | 11/37 [00:23<01:02,  2.41s/it]"
     ]
    },
    {
     "name": "stdout",
     "output_type": "stream",
     "text": [
      "Wrong label: /mnt/data2T/junyuan/eye-tracking/datasets/DavisEyeCenterDataset/test/label/user44_left_session_2_0_1_centers.txt\n"
     ]
    },
    {
     "name": "stderr",
     "output_type": "stream",
     "text": [
      " 65%|██████▍   | 24/37 [00:52<00:30,  2.35s/it]"
     ]
    },
    {
     "name": "stdout",
     "output_type": "stream",
     "text": [
      "Wrong label: /mnt/data2T/junyuan/eye-tracking/datasets/DavisEyeCenterDataset/test/label/user46_right_session_1_0_1_centers.txt\n"
     ]
    },
    {
     "name": "stderr",
     "output_type": "stream",
     "text": [
      " 89%|████████▉ | 33/37 [01:11<00:07,  1.92s/it]"
     ]
    },
    {
     "name": "stdout",
     "output_type": "stream",
     "text": [
      "Wrong label: /mnt/data2T/junyuan/eye-tracking/datasets/DavisEyeCenterDataset/test/label/user47_right_session_1_0_2_centers.txt\n"
     ]
    },
    {
     "name": "stderr",
     "output_type": "stream",
     "text": [
      "100%|██████████| 37/37 [01:19<00:00,  2.15s/it]\n"
     ]
    }
   ],
   "source": [
    "ensure_labels(train_path)\n",
    "ensure_labels(val_path)\n",
    "ensure_labels(test_path)"
   ]
  },
  {
   "cell_type": "code",
   "execution_count": 6,
   "metadata": {},
   "outputs": [],
   "source": [
    "test_train_path = Path(\"/mnt/data2T/junyuan/eye-tracking/testDataset/train\")\n",
    "test_val_path = Path(\"/mnt/data2T/junyuan/eye-tracking/testDataset/val\")\n",
    "test_test_path = Path(\"/mnt/data2T/junyuan/eye-tracking/testDataset/test\")"
   ]
  },
  {
   "cell_type": "code",
   "execution_count": 7,
   "metadata": {},
   "outputs": [
    {
     "name": "stderr",
     "output_type": "stream",
     "text": [
      "100%|██████████| 2/2 [00:05<00:00,  2.84s/it]\n",
      " 67%|██████▋   | 2/3 [00:05<00:02,  2.71s/it]"
     ]
    },
    {
     "name": "stdout",
     "output_type": "stream",
     "text": [
      "Wrong label: /mnt/data2T/junyuan/eye-tracking/testDataset/val/label/user38_right_session_1_0_1_centers.txt\n"
     ]
    },
    {
     "name": "stderr",
     "output_type": "stream",
     "text": [
      "100%|██████████| 3/3 [00:06<00:00,  2.27s/it]\n"
     ]
    },
    {
     "name": "stdout",
     "output_type": "stream",
     "text": [
      "Wrong label: /mnt/data2T/junyuan/eye-tracking/testDataset/val/label/user38_right_session_1_0_2_centers.txt\n"
     ]
    },
    {
     "name": "stderr",
     "output_type": "stream",
     "text": [
      "100%|██████████| 1/1 [00:03<00:00,  3.04s/it]"
     ]
    },
    {
     "name": "stdout",
     "output_type": "stream",
     "text": [
      "Wrong label: /mnt/data2T/junyuan/eye-tracking/testDataset/test/label/user43_left_session_1_0_1_centers.txt\n"
     ]
    },
    {
     "name": "stderr",
     "output_type": "stream",
     "text": [
      "\n"
     ]
    }
   ],
   "source": [
    "ensure_labels(test_train_path)\n",
    "ensure_labels(test_val_path)\n",
    "ensure_labels(test_test_path)"
   ]
  }
 ],
 "metadata": {
  "kernelspec": {
   "display_name": "EvEye",
   "language": "python",
   "name": "python3"
  },
  "language_info": {
   "codemirror_mode": {
    "name": "ipython",
    "version": 3
   },
   "file_extension": ".py",
   "mimetype": "text/x-python",
   "name": "python",
   "nbconvert_exporter": "python",
   "pygments_lexer": "ipython3",
   "version": "3.10.14"
  },
  "orig_nbformat": 4
 },
 "nbformat": 4,
 "nbformat_minor": 2
}
