{
 "cells": [
  {
   "cell_type": "code",
   "execution_count": null,
   "metadata": {},
   "outputs": [],
   "source": [
    "import h5py\n",
    "import os\n",
    "\n",
    "from tqdm import tqdm\n",
    "from natsort import natsorted\n",
    "from pathlib import Path\n",
    "from EvEye.utils.processor.TxtProcessor import TxtProcessor\n",
    "from EvEye.utils.processor.HDF5Processor import HDF5Processor\n",
    "from EvEye.utils.tonic.functional.ToFrameStack import to_frame_stack_numpy\n",
    "from EvEye.utils.tonic.slicers.SliceEventsAtIndices import slice_events_at_timepoints"
   ]
  },
  {
   "cell_type": "code",
   "execution_count": null,
   "metadata": {},
   "outputs": [],
   "source": [
    "events_base_path = Path(\n",
    "    \"/mnt/data2T/junyuan/eye-tracking/datasets/DavisEyeCenterDataset/val/data\"\n",
    ")\n",
    "ellipses_base_path = Path(\n",
    "    \"/mnt/data2T/junyuan/eye-tracking/datasets/DavisEyeEllipseLabels\"\n",
    ")\n",
    "output_path = Path(\"/mnt/data2T/junyuan/eye-tracking/datasets/DavisEyeEllipseDataset\")\n",
    "events_path = natsorted(list(events_base_path.glob(\"*.txt\")))\n",
    "ellipses_path = natsorted(list(ellipses_base_path.glob(\"*.txt\")))"
   ]
  },
  {
   "cell_type": "code",
   "execution_count": null,
   "metadata": {},
   "outputs": [],
   "source": [
    "time_window = 10000\n",
    "sensor_size = (346, 260, 2)\n",
    "events_interpolation = \"causal_linear\""
   ]
  },
  {
   "cell_type": "code",
   "execution_count": null,
   "metadata": {},
   "outputs": [],
   "source": [
    "for event_path in tqdm(events_path):\n",
    "    file_name = event_path.stem[:-7]\n",
    "    ellipse_path = f\"{ellipses_base_path}/{file_name}.txt\"\n",
    "    events = TxtProcessor(event_path).load_events_from_txt()\n",
    "    ellipses = TxtProcessor(ellipse_path).load_ellipses_from_txt()\n",
    "    event_frame_list = []\n",
    "    for ellipse in ellipses:\n",
    "        end_event_time = ellipse['t']\n",
    "        start_event_time = end_event_time - time_window\n",
    "        event_segment = slice_events_at_timepoints(\n",
    "            events, start_event_time, end_event_time\n",
    "        )\n",
    "        event_frame = to_frame_stack_numpy(\n",
    "            event_segment,\n",
    "            sensor_size,\n",
    "            1,\n",
    "            events_interpolation,\n",
    "            start_event_time,\n",
    "            end_event_time,\n",
    "        )\n",
    "        event_frame_list.append(event_frame)\n",
    "\n",
    "    with h5py.File(f\"{output_path}/{file_name}.h5\", \"w\") as file:\n",
    "        file.create_dataset(\"events\", data=event_frame_list)\n",
    "        file.create_dataset(\"ellipses\", data=ellipses)"
   ]
  },
  {
   "cell_type": "code",
   "execution_count": null,
   "metadata": {},
   "outputs": [],
   "source": [
    "h5_path = \"/mnt/data2T/junyuan/eye-tracking/datasets/DavisEyeEllipseDataset/user38_right_session_1_0_1.h5\"\n",
    "events = HDF5Processor(h5_path).read_data(\"events\")[0]"
   ]
  },
  {
   "cell_type": "code",
   "execution_count": null,
   "metadata": {},
   "outputs": [],
   "source": [
    "events.shape"
   ]
  }
 ],
 "metadata": {
  "kernelspec": {
   "display_name": "EvEye",
   "language": "python",
   "name": "python3"
  },
  "language_info": {
   "codemirror_mode": {
    "name": "ipython",
    "version": 3
   },
   "file_extension": ".py",
   "mimetype": "text/x-python",
   "name": "python",
   "nbconvert_exporter": "python",
   "pygments_lexer": "ipython3",
   "version": "3.10.14"
  }
 },
 "nbformat": 4,
 "nbformat_minor": 2
}
