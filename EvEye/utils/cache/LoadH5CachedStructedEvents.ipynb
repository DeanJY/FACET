{
 "cells": [
  {
   "cell_type": "code",
   "execution_count": null,
   "metadata": {},
   "outputs": [],
   "source": [
    "import h5py\n",
    "import os\n",
    "\n",
    "from tqdm import tqdm\n",
    "from natsort import natsorted\n",
    "from pathlib import Path\n",
    "from EvEye.utils.processor.TxtProcessor import TxtProcessor\n",
    "from EvEye.utils.processor.HDF5Processor import HDF5Processor"
   ]
  },
  {
   "cell_type": "code",
   "execution_count": null,
   "metadata": {},
   "outputs": [],
   "source": [
    "root_path = Path(\"/mnt/data2T/junyuan/eye-tracking/datasets/DavisEyeEllipseDataset\")\n",
    "data_paths = natsorted(list(root_path.glob(\"*.h5\")))\n",
    "num_frames = []\n",
    "for data_path in tqdm(data_paths):\n",
    "    events = HDF5Processor(data_path).read_data(\"events\")\n",
    "    ellipses = HDF5Processor(data_path).read_data(\"ellipses\")\n",
    "    num = int(ellipses.shape[0])\n",
    "    num_frames.append(num)\n",
    "total_nums = sum(num_frames)"
   ]
  },
  {
   "cell_type": "code",
   "execution_count": null,
   "metadata": {},
   "outputs": [],
   "source": [
    "total_nums"
   ]
  },
  {
   "cell_type": "code",
   "execution_count": null,
   "metadata": {},
   "outputs": [],
   "source": [
    "# events = HDF5Processor(events_path).read_data(\"events\")\n",
    "# ellipses = HDF5Processor(events_path).read_data(\"ellipses\")"
   ]
  }
 ],
 "metadata": {
  "kernelspec": {
   "display_name": "EvEye",
   "language": "python",
   "name": "python3"
  },
  "language_info": {
   "codemirror_mode": {
    "name": "ipython",
    "version": 3
   },
   "file_extension": ".py",
   "mimetype": "text/x-python",
   "name": "python",
   "nbconvert_exporter": "python",
   "pygments_lexer": "ipython3",
   "version": "3.10.14"
  }
 },
 "nbformat": 4,
 "nbformat_minor": 2
}
